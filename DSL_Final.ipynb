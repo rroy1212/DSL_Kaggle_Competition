{
  "nbformat": 4,
  "nbformat_minor": 0,
  "metadata": {
    "colab": {
      "name": "DSL_Fianl.ipynb",
      "provenance": []
    },
    "kernelspec": {
      "name": "python3",
      "display_name": "Python 3"
    }
  },
  "cells": [
    {
      "cell_type": "code",
      "metadata": {
        "id": "NFDLi8yoO9af",
        "colab_type": "code",
        "colab": {}
      },
      "source": [
        "import pandas as pd\n",
        "import numpy as np\n",
        "import matplotlib.pyplot as plt\n",
        "import seaborn as sns\n",
        "import skopt\n",
        "from sklearn import model_selection\n",
        "from sklearn.model_selection import train_test_split\n",
        "from sklearn.model_selection import cross_val_score\n",
        "from sklearn.metrics import classification_report\n",
        "from sklearn.linear_model import LogisticRegression\n",
        "from sklearn.model_selection import GridSearchCV\n",
        "import xgboost as xgb\n",
        "import lightgbm as lgb\n",
        "from xgboost import XGBClassifier,plot_importance\n",
        "from sklearn.model_selection import StratifiedKFold\n",
        "from sklearn import linear_model, decomposition, datasets\n",
        "from sklearn.pipeline import Pipeline\n",
        "from sklearn.model_selection import GridSearchCV, cross_val_score\n",
        "from sklearn.preprocessing import StandardScaler\n",
        "from sklearn.ensemble import RandomForestClassifier\n",
        "from google.colab import files\n",
        "from sklearn.ensemble import VotingClassifier\n",
        "from skopt import BayesSearchCV\n",
        "\n",
        "\n",
        "# Remove warnings\n",
        "import warnings\n",
        "warnings.filterwarnings('ignore')\n",
        "%matplotlib inline"
      ],
      "execution_count": 0,
      "outputs": []
    },
    {
      "cell_type": "code",
      "metadata": {
        "id": "0qkJldS9HCFl",
        "colab_type": "code",
        "outputId": "ba40b1f9-83e1-4316-f56d-34c3e54a4059",
        "colab": {
          "base_uri": "https://localhost:8080/",
          "height": 141
        }
      },
      "source": [
        "pip install scikit-optimize"
      ],
      "execution_count": 55,
      "outputs": [
        {
          "output_type": "stream",
          "text": [
            "Requirement already satisfied: scikit-optimize in /usr/local/lib/python3.6/dist-packages (0.7.4)\n",
            "Requirement already satisfied: scikit-learn>=0.19.1 in /usr/local/lib/python3.6/dist-packages (from scikit-optimize) (0.22.1)\n",
            "Requirement already satisfied: pyaml>=16.9 in /usr/local/lib/python3.6/dist-packages (from scikit-optimize) (19.12.0)\n",
            "Requirement already satisfied: scipy>=0.18.0 in /usr/local/lib/python3.6/dist-packages (from scikit-optimize) (1.4.1)\n",
            "Requirement already satisfied: numpy>=1.11.0 in /usr/local/lib/python3.6/dist-packages (from scikit-optimize) (1.17.5)\n",
            "Requirement already satisfied: joblib>=0.11 in /usr/local/lib/python3.6/dist-packages (from scikit-optimize) (0.14.1)\n",
            "Requirement already satisfied: PyYAML in /usr/local/lib/python3.6/dist-packages (from pyaml>=16.9->scikit-optimize) (3.13)\n"
          ],
          "name": "stdout"
        }
      ]
    },
    {
      "cell_type": "code",
      "metadata": {
        "id": "WeIg69sy2bkp",
        "colab_type": "code",
        "colab": {}
      },
      "source": [
        "train_url = \"https://raw.githubusercontent.com/rroy1212/DSL_Kaggle_Competition/master/train_final.csv\""
      ],
      "execution_count": 0,
      "outputs": []
    },
    {
      "cell_type": "code",
      "metadata": {
        "id": "_ydr7XOV2iGN",
        "colab_type": "code",
        "colab": {}
      },
      "source": [
        "test_url = \"https://raw.githubusercontent.com/rroy1212/DSL_Kaggle_Competition/master/test_final.csv\"\n"
      ],
      "execution_count": 0,
      "outputs": []
    },
    {
      "cell_type": "code",
      "metadata": {
        "id": "orPzYYcX2kyt",
        "colab_type": "code",
        "colab": {}
      },
      "source": [
        "train_df = pd.read_csv(train_url)\n",
        "test_df = pd.read_csv(test_url)"
      ],
      "execution_count": 0,
      "outputs": []
    },
    {
      "cell_type": "code",
      "metadata": {
        "id": "VQXHrg2T2nJ0",
        "colab_type": "code",
        "outputId": "1bcb33cd-7631-48e2-8a17-3e4ae62019e3",
        "colab": {
          "base_uri": "https://localhost:8080/",
          "height": 52
        }
      },
      "source": [
        "train_df.shape\n",
        "print(\"The training set has:\", str(train_df.shape[0]) , \"rows and\", train_df.shape[1], \"columns\")\n",
        "test_df.shape\n",
        "print(\"The training set has:\", str(test_df.shape[0]) , \"rows and\", test_df.shape[1], \"columns\")"
      ],
      "execution_count": 60,
      "outputs": [
        {
          "output_type": "stream",
          "text": [
            "The training set has: 16383 rows and 26 columns\n",
            "The training set has: 16385 rows and 25 columns\n"
          ],
          "name": "stdout"
        }
      ]
    },
    {
      "cell_type": "markdown",
      "metadata": {
        "id": "qnB0ErL8Kwqd",
        "colab_type": "text"
      },
      "source": [
        "Data Exploration:\n",
        "\n",
        "1. Check the type of data present in the test and training data, if we have any categorical variables then we may use Label Encoder or One Hot Encoder\n",
        "\n",
        "2. Check if we have any missing values\n",
        "\n",
        "3. Find correlation between variables\n",
        "\n",
        "4. Check distribution of variables with respect to target variable\n",
        "\n",
        "5. Outlier Detection"
      ]
    },
    {
      "cell_type": "code",
      "metadata": {
        "id": "QJ0BHFkb2sDl",
        "colab_type": "code",
        "outputId": "c84fdfc4-af55-45cf-9b0f-1aad81478bb1",
        "colab": {
          "base_uri": "https://localhost:8080/",
          "height": 194
        }
      },
      "source": [
        "test_df.head()"
      ],
      "execution_count": 61,
      "outputs": [
        {
          "output_type": "execute_result",
          "data": {
            "text/html": [
              "<div>\n",
              "<style scoped>\n",
              "    .dataframe tbody tr th:only-of-type {\n",
              "        vertical-align: middle;\n",
              "    }\n",
              "\n",
              "    .dataframe tbody tr th {\n",
              "        vertical-align: top;\n",
              "    }\n",
              "\n",
              "    .dataframe thead th {\n",
              "        text-align: right;\n",
              "    }\n",
              "</style>\n",
              "<table border=\"1\" class=\"dataframe\">\n",
              "  <thead>\n",
              "    <tr style=\"text-align: right;\">\n",
              "      <th></th>\n",
              "      <th>Id</th>\n",
              "      <th>f1</th>\n",
              "      <th>f2</th>\n",
              "      <th>f3</th>\n",
              "      <th>f4</th>\n",
              "      <th>f5</th>\n",
              "      <th>f6</th>\n",
              "      <th>f7</th>\n",
              "      <th>f8</th>\n",
              "      <th>f9</th>\n",
              "      <th>f10</th>\n",
              "      <th>f11</th>\n",
              "      <th>f12</th>\n",
              "      <th>f13</th>\n",
              "      <th>f14</th>\n",
              "      <th>f15</th>\n",
              "      <th>f16</th>\n",
              "      <th>f17</th>\n",
              "      <th>f18</th>\n",
              "      <th>f19</th>\n",
              "      <th>f20</th>\n",
              "      <th>f21</th>\n",
              "      <th>f22</th>\n",
              "      <th>f23</th>\n",
              "      <th>f24</th>\n",
              "    </tr>\n",
              "  </thead>\n",
              "  <tbody>\n",
              "    <tr>\n",
              "      <th>0</th>\n",
              "      <td>16384</td>\n",
              "      <td>37733</td>\n",
              "      <td>1</td>\n",
              "      <td>1.77</td>\n",
              "      <td>118603</td>\n",
              "      <td>1</td>\n",
              "      <td>0</td>\n",
              "      <td>118602</td>\n",
              "      <td>118097</td>\n",
              "      <td>1</td>\n",
              "      <td>0</td>\n",
              "      <td>1</td>\n",
              "      <td>1</td>\n",
              "      <td>117888</td>\n",
              "      <td>2.453740</td>\n",
              "      <td>13881</td>\n",
              "      <td>117941</td>\n",
              "      <td>117887</td>\n",
              "      <td>1</td>\n",
              "      <td>117885</td>\n",
              "      <td>1</td>\n",
              "      <td>1</td>\n",
              "      <td>1</td>\n",
              "      <td>1</td>\n",
              "      <td>1</td>\n",
              "    </tr>\n",
              "    <tr>\n",
              "      <th>1</th>\n",
              "      <td>16385</td>\n",
              "      <td>312129</td>\n",
              "      <td>1</td>\n",
              "      <td>3.54</td>\n",
              "      <td>118052</td>\n",
              "      <td>1</td>\n",
              "      <td>0</td>\n",
              "      <td>117961</td>\n",
              "      <td>290919</td>\n",
              "      <td>1</td>\n",
              "      <td>4</td>\n",
              "      <td>1</td>\n",
              "      <td>43</td>\n",
              "      <td>118322</td>\n",
              "      <td>-0.012317</td>\n",
              "      <td>14638</td>\n",
              "      <td>118992</td>\n",
              "      <td>290919</td>\n",
              "      <td>1</td>\n",
              "      <td>118321</td>\n",
              "      <td>1</td>\n",
              "      <td>1</td>\n",
              "      <td>1</td>\n",
              "      <td>7</td>\n",
              "      <td>1</td>\n",
              "    </tr>\n",
              "    <tr>\n",
              "      <th>2</th>\n",
              "      <td>16386</td>\n",
              "      <td>24884</td>\n",
              "      <td>1</td>\n",
              "      <td>23.01</td>\n",
              "      <td>118300</td>\n",
              "      <td>1</td>\n",
              "      <td>0</td>\n",
              "      <td>117961</td>\n",
              "      <td>302830</td>\n",
              "      <td>1</td>\n",
              "      <td>0</td>\n",
              "      <td>1</td>\n",
              "      <td>1</td>\n",
              "      <td>128231</td>\n",
              "      <td>1.000000</td>\n",
              "      <td>770</td>\n",
              "      <td>119181</td>\n",
              "      <td>4673</td>\n",
              "      <td>1</td>\n",
              "      <td>128230</td>\n",
              "      <td>1</td>\n",
              "      <td>1</td>\n",
              "      <td>1</td>\n",
              "      <td>14</td>\n",
              "      <td>1</td>\n",
              "    </tr>\n",
              "    <tr>\n",
              "      <th>3</th>\n",
              "      <td>16387</td>\n",
              "      <td>4674</td>\n",
              "      <td>1</td>\n",
              "      <td>1.77</td>\n",
              "      <td>119091</td>\n",
              "      <td>1</td>\n",
              "      <td>0</td>\n",
              "      <td>119062</td>\n",
              "      <td>118036</td>\n",
              "      <td>1</td>\n",
              "      <td>9</td>\n",
              "      <td>1</td>\n",
              "      <td>1</td>\n",
              "      <td>117908</td>\n",
              "      <td>1.000000</td>\n",
              "      <td>16752</td>\n",
              "      <td>143531</td>\n",
              "      <td>290919</td>\n",
              "      <td>1</td>\n",
              "      <td>117905</td>\n",
              "      <td>1</td>\n",
              "      <td>1</td>\n",
              "      <td>1</td>\n",
              "      <td>81</td>\n",
              "      <td>1</td>\n",
              "    </tr>\n",
              "    <tr>\n",
              "      <th>4</th>\n",
              "      <td>16388</td>\n",
              "      <td>68725</td>\n",
              "      <td>1</td>\n",
              "      <td>3.54</td>\n",
              "      <td>118300</td>\n",
              "      <td>1</td>\n",
              "      <td>0</td>\n",
              "      <td>117961</td>\n",
              "      <td>171056</td>\n",
              "      <td>1</td>\n",
              "      <td>0</td>\n",
              "      <td>1</td>\n",
              "      <td>6</td>\n",
              "      <td>118639</td>\n",
              "      <td>-0.503250</td>\n",
              "      <td>4945</td>\n",
              "      <td>118360</td>\n",
              "      <td>118638</td>\n",
              "      <td>1</td>\n",
              "      <td>118636</td>\n",
              "      <td>1</td>\n",
              "      <td>1</td>\n",
              "      <td>1</td>\n",
              "      <td>1</td>\n",
              "      <td>1</td>\n",
              "    </tr>\n",
              "  </tbody>\n",
              "</table>\n",
              "</div>"
            ],
            "text/plain": [
              "      Id      f1  f2     f3      f4  f5  ...     f19  f20  f21  f22  f23  f24\n",
              "0  16384   37733   1   1.77  118603   1  ...  117885    1    1    1    1    1\n",
              "1  16385  312129   1   3.54  118052   1  ...  118321    1    1    1    7    1\n",
              "2  16386   24884   1  23.01  118300   1  ...  128230    1    1    1   14    1\n",
              "3  16387    4674   1   1.77  119091   1  ...  117905    1    1    1   81    1\n",
              "4  16388   68725   1   3.54  118300   1  ...  118636    1    1    1    1    1\n",
              "\n",
              "[5 rows x 25 columns]"
            ]
          },
          "metadata": {
            "tags": []
          },
          "execution_count": 61
        }
      ]
    },
    {
      "cell_type": "code",
      "metadata": {
        "id": "R27okPaT2uPx",
        "colab_type": "code",
        "outputId": "77c49e6f-fe35-442c-efe5-44695b0384ed",
        "colab": {
          "base_uri": "https://localhost:8080/",
          "height": 194
        }
      },
      "source": [
        "train_df.head()"
      ],
      "execution_count": 0,
      "outputs": [
        {
          "output_type": "execute_result",
          "data": {
            "text/html": [
              "<div>\n",
              "<style scoped>\n",
              "    .dataframe tbody tr th:only-of-type {\n",
              "        vertical-align: middle;\n",
              "    }\n",
              "\n",
              "    .dataframe tbody tr th {\n",
              "        vertical-align: top;\n",
              "    }\n",
              "\n",
              "    .dataframe thead th {\n",
              "        text-align: right;\n",
              "    }\n",
              "</style>\n",
              "<table border=\"1\" class=\"dataframe\">\n",
              "  <thead>\n",
              "    <tr style=\"text-align: right;\">\n",
              "      <th></th>\n",
              "      <th>Id</th>\n",
              "      <th>Y</th>\n",
              "      <th>f1</th>\n",
              "      <th>f2</th>\n",
              "      <th>f3</th>\n",
              "      <th>f4</th>\n",
              "      <th>f5</th>\n",
              "      <th>f6</th>\n",
              "      <th>f7</th>\n",
              "      <th>f8</th>\n",
              "      <th>f9</th>\n",
              "      <th>f10</th>\n",
              "      <th>f11</th>\n",
              "      <th>f12</th>\n",
              "      <th>f13</th>\n",
              "      <th>f14</th>\n",
              "      <th>f15</th>\n",
              "      <th>f16</th>\n",
              "      <th>f17</th>\n",
              "      <th>f18</th>\n",
              "      <th>f19</th>\n",
              "      <th>f20</th>\n",
              "      <th>f21</th>\n",
              "      <th>f22</th>\n",
              "      <th>f23</th>\n",
              "      <th>f24</th>\n",
              "    </tr>\n",
              "  </thead>\n",
              "  <tbody>\n",
              "    <tr>\n",
              "      <th>0</th>\n",
              "      <td>1</td>\n",
              "      <td>1</td>\n",
              "      <td>25884</td>\n",
              "      <td>1</td>\n",
              "      <td>33.63</td>\n",
              "      <td>118596</td>\n",
              "      <td>1</td>\n",
              "      <td>0</td>\n",
              "      <td>118595</td>\n",
              "      <td>125738</td>\n",
              "      <td>1</td>\n",
              "      <td>3</td>\n",
              "      <td>1</td>\n",
              "      <td>2</td>\n",
              "      <td>121374</td>\n",
              "      <td>-2.266430</td>\n",
              "      <td>1945</td>\n",
              "      <td>118450</td>\n",
              "      <td>119184</td>\n",
              "      <td>1</td>\n",
              "      <td>121372</td>\n",
              "      <td>1</td>\n",
              "      <td>1</td>\n",
              "      <td>1</td>\n",
              "      <td>2</td>\n",
              "      <td>1</td>\n",
              "    </tr>\n",
              "    <tr>\n",
              "      <th>1</th>\n",
              "      <td>2</td>\n",
              "      <td>1</td>\n",
              "      <td>34346</td>\n",
              "      <td>1</td>\n",
              "      <td>10.62</td>\n",
              "      <td>118041</td>\n",
              "      <td>1</td>\n",
              "      <td>0</td>\n",
              "      <td>117902</td>\n",
              "      <td>130913</td>\n",
              "      <td>1</td>\n",
              "      <td>1</td>\n",
              "      <td>1</td>\n",
              "      <td>23</td>\n",
              "      <td>118943</td>\n",
              "      <td>-0.305612</td>\n",
              "      <td>15385</td>\n",
              "      <td>117945</td>\n",
              "      <td>292795</td>\n",
              "      <td>1</td>\n",
              "      <td>259173</td>\n",
              "      <td>1</td>\n",
              "      <td>1</td>\n",
              "      <td>1</td>\n",
              "      <td>1</td>\n",
              "      <td>1</td>\n",
              "    </tr>\n",
              "    <tr>\n",
              "      <th>2</th>\n",
              "      <td>3</td>\n",
              "      <td>1</td>\n",
              "      <td>34923</td>\n",
              "      <td>1</td>\n",
              "      <td>1.77</td>\n",
              "      <td>118327</td>\n",
              "      <td>1</td>\n",
              "      <td>0</td>\n",
              "      <td>117961</td>\n",
              "      <td>124402</td>\n",
              "      <td>1</td>\n",
              "      <td>2</td>\n",
              "      <td>1</td>\n",
              "      <td>1</td>\n",
              "      <td>118786</td>\n",
              "      <td>2.015561</td>\n",
              "      <td>7547</td>\n",
              "      <td>118933</td>\n",
              "      <td>290919</td>\n",
              "      <td>1</td>\n",
              "      <td>118784</td>\n",
              "      <td>1</td>\n",
              "      <td>1</td>\n",
              "      <td>1</td>\n",
              "      <td>1</td>\n",
              "      <td>1</td>\n",
              "    </tr>\n",
              "    <tr>\n",
              "      <th>3</th>\n",
              "      <td>4</td>\n",
              "      <td>1</td>\n",
              "      <td>80926</td>\n",
              "      <td>1</td>\n",
              "      <td>30.09</td>\n",
              "      <td>118300</td>\n",
              "      <td>1</td>\n",
              "      <td>0</td>\n",
              "      <td>117961</td>\n",
              "      <td>301218</td>\n",
              "      <td>1</td>\n",
              "      <td>0</td>\n",
              "      <td>1</td>\n",
              "      <td>1</td>\n",
              "      <td>118332</td>\n",
              "      <td>-3.172501</td>\n",
              "      <td>4933</td>\n",
              "      <td>118458</td>\n",
              "      <td>118331</td>\n",
              "      <td>1</td>\n",
              "      <td>307024</td>\n",
              "      <td>1</td>\n",
              "      <td>1</td>\n",
              "      <td>1</td>\n",
              "      <td>2</td>\n",
              "      <td>1</td>\n",
              "    </tr>\n",
              "    <tr>\n",
              "      <th>4</th>\n",
              "      <td>5</td>\n",
              "      <td>1</td>\n",
              "      <td>4674</td>\n",
              "      <td>1</td>\n",
              "      <td>1.77</td>\n",
              "      <td>119921</td>\n",
              "      <td>1</td>\n",
              "      <td>0</td>\n",
              "      <td>119920</td>\n",
              "      <td>302830</td>\n",
              "      <td>1</td>\n",
              "      <td>0</td>\n",
              "      <td>1</td>\n",
              "      <td>2</td>\n",
              "      <td>128231</td>\n",
              "      <td>0.573767</td>\n",
              "      <td>13836</td>\n",
              "      <td>142145</td>\n",
              "      <td>4673</td>\n",
              "      <td>1</td>\n",
              "      <td>128230</td>\n",
              "      <td>1</td>\n",
              "      <td>1</td>\n",
              "      <td>1</td>\n",
              "      <td>620</td>\n",
              "      <td>1</td>\n",
              "    </tr>\n",
              "  </tbody>\n",
              "</table>\n",
              "</div>"
            ],
            "text/plain": [
              "   Id  Y     f1  f2     f3      f4  f5  ...  f18     f19  f20  f21  f22  f23  f24\n",
              "0   1  1  25884   1  33.63  118596   1  ...    1  121372    1    1    1    2    1\n",
              "1   2  1  34346   1  10.62  118041   1  ...    1  259173    1    1    1    1    1\n",
              "2   3  1  34923   1   1.77  118327   1  ...    1  118784    1    1    1    1    1\n",
              "3   4  1  80926   1  30.09  118300   1  ...    1  307024    1    1    1    2    1\n",
              "4   5  1   4674   1   1.77  119921   1  ...    1  128230    1    1    1  620    1\n",
              "\n",
              "[5 rows x 26 columns]"
            ]
          },
          "metadata": {
            "tags": []
          },
          "execution_count": 40
        }
      ]
    },
    {
      "cell_type": "code",
      "metadata": {
        "id": "Frm8LIKJ2w8P",
        "colab_type": "code",
        "outputId": "be031ca0-041d-40bd-d308-de836b0cfb6f",
        "colab": {
          "base_uri": "https://localhost:8080/",
          "height": 568
        }
      },
      "source": [
        "train_df.info()"
      ],
      "execution_count": 0,
      "outputs": [
        {
          "output_type": "stream",
          "text": [
            "<class 'pandas.core.frame.DataFrame'>\n",
            "RangeIndex: 16383 entries, 0 to 16382\n",
            "Data columns (total 26 columns):\n",
            "Id     16383 non-null int64\n",
            "Y      16383 non-null int64\n",
            "f1     16383 non-null int64\n",
            "f2     16383 non-null int64\n",
            "f3     16383 non-null float64\n",
            "f4     16383 non-null int64\n",
            "f5     16383 non-null int64\n",
            "f6     16383 non-null int64\n",
            "f7     16383 non-null int64\n",
            "f8     16383 non-null int64\n",
            "f9     16383 non-null int64\n",
            "f10    16383 non-null int64\n",
            "f11    16383 non-null int64\n",
            "f12    16383 non-null int64\n",
            "f13    16383 non-null int64\n",
            "f14    16383 non-null float64\n",
            "f15    16383 non-null int64\n",
            "f16    16383 non-null int64\n",
            "f17    16383 non-null int64\n",
            "f18    16383 non-null int64\n",
            "f19    16383 non-null int64\n",
            "f20    16383 non-null int64\n",
            "f21    16383 non-null int64\n",
            "f22    16383 non-null int64\n",
            "f23    16383 non-null int64\n",
            "f24    16383 non-null int64\n",
            "dtypes: float64(2), int64(24)\n",
            "memory usage: 3.2 MB\n"
          ],
          "name": "stdout"
        }
      ]
    },
    {
      "cell_type": "code",
      "metadata": {
        "id": "NCBfaiUK2z10",
        "colab_type": "code",
        "outputId": "7b588f33-499e-4605-c9d7-4fdaa6735d78",
        "colab": {
          "base_uri": "https://localhost:8080/",
          "height": 302
        }
      },
      "source": [
        "train_df.describe()"
      ],
      "execution_count": 0,
      "outputs": [
        {
          "output_type": "execute_result",
          "data": {
            "text/html": [
              "<div>\n",
              "<style scoped>\n",
              "    .dataframe tbody tr th:only-of-type {\n",
              "        vertical-align: middle;\n",
              "    }\n",
              "\n",
              "    .dataframe tbody tr th {\n",
              "        vertical-align: top;\n",
              "    }\n",
              "\n",
              "    .dataframe thead th {\n",
              "        text-align: right;\n",
              "    }\n",
              "</style>\n",
              "<table border=\"1\" class=\"dataframe\">\n",
              "  <thead>\n",
              "    <tr style=\"text-align: right;\">\n",
              "      <th></th>\n",
              "      <th>Id</th>\n",
              "      <th>Y</th>\n",
              "      <th>f1</th>\n",
              "      <th>f2</th>\n",
              "      <th>f3</th>\n",
              "      <th>f4</th>\n",
              "      <th>f5</th>\n",
              "      <th>f6</th>\n",
              "      <th>f7</th>\n",
              "      <th>f8</th>\n",
              "      <th>f9</th>\n",
              "      <th>f10</th>\n",
              "      <th>f11</th>\n",
              "      <th>f12</th>\n",
              "      <th>f13</th>\n",
              "      <th>f14</th>\n",
              "      <th>f15</th>\n",
              "      <th>f16</th>\n",
              "      <th>f17</th>\n",
              "      <th>f18</th>\n",
              "      <th>f19</th>\n",
              "      <th>f20</th>\n",
              "      <th>f21</th>\n",
              "      <th>f22</th>\n",
              "      <th>f23</th>\n",
              "      <th>f24</th>\n",
              "    </tr>\n",
              "  </thead>\n",
              "  <tbody>\n",
              "    <tr>\n",
              "      <th>count</th>\n",
              "      <td>16383.000000</td>\n",
              "      <td>16383.000000</td>\n",
              "      <td>16383.000000</td>\n",
              "      <td>16383.000000</td>\n",
              "      <td>16383.000000</td>\n",
              "      <td>16383.000000</td>\n",
              "      <td>16383.000000</td>\n",
              "      <td>16383.000000</td>\n",
              "      <td>16383.000000</td>\n",
              "      <td>16383.000000</td>\n",
              "      <td>16383.000000</td>\n",
              "      <td>16383.000000</td>\n",
              "      <td>16383.000000</td>\n",
              "      <td>16383.000000</td>\n",
              "      <td>16383.000000</td>\n",
              "      <td>16383.000000</td>\n",
              "      <td>16383.000000</td>\n",
              "      <td>16383.000000</td>\n",
              "      <td>16383.000000</td>\n",
              "      <td>16383.000000</td>\n",
              "      <td>16383.000000</td>\n",
              "      <td>16383.000000</td>\n",
              "      <td>16383.000000</td>\n",
              "      <td>16383.000000</td>\n",
              "      <td>1.638300e+04</td>\n",
              "      <td>16383.000000</td>\n",
              "    </tr>\n",
              "    <tr>\n",
              "      <th>mean</th>\n",
              "      <td>8192.000000</td>\n",
              "      <td>0.942135</td>\n",
              "      <td>43007.775865</td>\n",
              "      <td>1.044375</td>\n",
              "      <td>11.770938</td>\n",
              "      <td>118323.581456</td>\n",
              "      <td>1.044436</td>\n",
              "      <td>0.050052</td>\n",
              "      <td>117089.674113</td>\n",
              "      <td>169730.178600</td>\n",
              "      <td>1.041812</td>\n",
              "      <td>4.976317</td>\n",
              "      <td>1.042483</td>\n",
              "      <td>6.378380</td>\n",
              "      <td>119774.307941</td>\n",
              "      <td>0.293940</td>\n",
              "      <td>25894.316914</td>\n",
              "      <td>119045.099005</td>\n",
              "      <td>184622.040835</td>\n",
              "      <td>1.047305</td>\n",
              "      <td>125959.667765</td>\n",
              "      <td>1.044558</td>\n",
              "      <td>1.045718</td>\n",
              "      <td>1.041934</td>\n",
              "      <td>3.271890e+04</td>\n",
              "      <td>1.043948</td>\n",
              "    </tr>\n",
              "    <tr>\n",
              "      <th>std</th>\n",
              "      <td>4729.509065</td>\n",
              "      <td>0.233495</td>\n",
              "      <td>33611.182771</td>\n",
              "      <td>0.264806</td>\n",
              "      <td>353.187115</td>\n",
              "      <td>4518.059755</td>\n",
              "      <td>0.265601</td>\n",
              "      <td>0.293892</td>\n",
              "      <td>10261.292970</td>\n",
              "      <td>69396.677853</td>\n",
              "      <td>0.258226</td>\n",
              "      <td>65.629620</td>\n",
              "      <td>0.254664</td>\n",
              "      <td>108.216528</td>\n",
              "      <td>5609.093416</td>\n",
              "      <td>1.728999</td>\n",
              "      <td>36086.993946</td>\n",
              "      <td>18321.987129</td>\n",
              "      <td>100590.811845</td>\n",
              "      <td>0.306239</td>\n",
              "      <td>31091.344158</td>\n",
              "      <td>0.262576</td>\n",
              "      <td>0.266874</td>\n",
              "      <td>0.246597</td>\n",
              "      <td>3.184929e+06</td>\n",
              "      <td>0.259640</td>\n",
              "    </tr>\n",
              "    <tr>\n",
              "      <th>min</th>\n",
              "      <td>1.000000</td>\n",
              "      <td>0.000000</td>\n",
              "      <td>-1.000000</td>\n",
              "      <td>1.000000</td>\n",
              "      <td>1.770000</td>\n",
              "      <td>23779.000000</td>\n",
              "      <td>1.000000</td>\n",
              "      <td>0.000000</td>\n",
              "      <td>4292.000000</td>\n",
              "      <td>4673.000000</td>\n",
              "      <td>1.000000</td>\n",
              "      <td>0.000000</td>\n",
              "      <td>1.000000</td>\n",
              "      <td>1.000000</td>\n",
              "      <td>117880.000000</td>\n",
              "      <td>-7.446045</td>\n",
              "      <td>25.000000</td>\n",
              "      <td>4674.000000</td>\n",
              "      <td>3130.000000</td>\n",
              "      <td>1.000000</td>\n",
              "      <td>117879.000000</td>\n",
              "      <td>1.000000</td>\n",
              "      <td>1.000000</td>\n",
              "      <td>1.000000</td>\n",
              "      <td>1.000000e+00</td>\n",
              "      <td>1.000000</td>\n",
              "    </tr>\n",
              "    <tr>\n",
              "      <th>25%</th>\n",
              "      <td>4096.500000</td>\n",
              "      <td>1.000000</td>\n",
              "      <td>20311.000000</td>\n",
              "      <td>1.000000</td>\n",
              "      <td>1.770000</td>\n",
              "      <td>118096.000000</td>\n",
              "      <td>1.000000</td>\n",
              "      <td>0.000000</td>\n",
              "      <td>117961.000000</td>\n",
              "      <td>117906.000000</td>\n",
              "      <td>1.000000</td>\n",
              "      <td>0.000000</td>\n",
              "      <td>1.000000</td>\n",
              "      <td>1.000000</td>\n",
              "      <td>118232.000000</td>\n",
              "      <td>-0.704562</td>\n",
              "      <td>4554.000000</td>\n",
              "      <td>118395.000000</td>\n",
              "      <td>118398.000000</td>\n",
              "      <td>1.000000</td>\n",
              "      <td>118274.000000</td>\n",
              "      <td>1.000000</td>\n",
              "      <td>1.000000</td>\n",
              "      <td>1.000000</td>\n",
              "      <td>1.000000e+00</td>\n",
              "      <td>1.000000</td>\n",
              "    </tr>\n",
              "    <tr>\n",
              "      <th>50%</th>\n",
              "      <td>8192.000000</td>\n",
              "      <td>1.000000</td>\n",
              "      <td>35527.000000</td>\n",
              "      <td>1.000000</td>\n",
              "      <td>1.770000</td>\n",
              "      <td>118300.000000</td>\n",
              "      <td>1.000000</td>\n",
              "      <td>0.000000</td>\n",
              "      <td>117961.000000</td>\n",
              "      <td>128130.000000</td>\n",
              "      <td>1.000000</td>\n",
              "      <td>0.000000</td>\n",
              "      <td>1.000000</td>\n",
              "      <td>1.000000</td>\n",
              "      <td>118565.000000</td>\n",
              "      <td>1.000000</td>\n",
              "      <td>13234.000000</td>\n",
              "      <td>118929.000000</td>\n",
              "      <td>119095.000000</td>\n",
              "      <td>1.000000</td>\n",
              "      <td>118568.000000</td>\n",
              "      <td>1.000000</td>\n",
              "      <td>1.000000</td>\n",
              "      <td>1.000000</td>\n",
              "      <td>2.000000e+00</td>\n",
              "      <td>1.000000</td>\n",
              "    </tr>\n",
              "    <tr>\n",
              "      <th>75%</th>\n",
              "      <td>12287.500000</td>\n",
              "      <td>1.000000</td>\n",
              "      <td>74240.500000</td>\n",
              "      <td>1.000000</td>\n",
              "      <td>3.540000</td>\n",
              "      <td>118386.000000</td>\n",
              "      <td>1.000000</td>\n",
              "      <td>0.000000</td>\n",
              "      <td>117961.000000</td>\n",
              "      <td>234498.500000</td>\n",
              "      <td>1.000000</td>\n",
              "      <td>1.000000</td>\n",
              "      <td>1.000000</td>\n",
              "      <td>2.000000</td>\n",
              "      <td>119348.000000</td>\n",
              "      <td>1.000000</td>\n",
              "      <td>38902.000000</td>\n",
              "      <td>120539.000000</td>\n",
              "      <td>290919.000000</td>\n",
              "      <td>1.000000</td>\n",
              "      <td>120006.000000</td>\n",
              "      <td>1.000000</td>\n",
              "      <td>1.000000</td>\n",
              "      <td>1.000000</td>\n",
              "      <td>9.000000e+00</td>\n",
              "      <td>1.000000</td>\n",
              "    </tr>\n",
              "    <tr>\n",
              "      <th>max</th>\n",
              "      <td>16383.000000</td>\n",
              "      <td>1.000000</td>\n",
              "      <td>312152.000000</td>\n",
              "      <td>7.000000</td>\n",
              "      <td>43910.160000</td>\n",
              "      <td>286791.000000</td>\n",
              "      <td>9.000000</td>\n",
              "      <td>10.000000</td>\n",
              "      <td>311178.000000</td>\n",
              "      <td>311867.000000</td>\n",
              "      <td>11.000000</td>\n",
              "      <td>5036.000000</td>\n",
              "      <td>8.000000</td>\n",
              "      <td>10076.000000</td>\n",
              "      <td>270691.000000</td>\n",
              "      <td>7.398682</td>\n",
              "      <td>311696.000000</td>\n",
              "      <td>286792.000000</td>\n",
              "      <td>308574.000000</td>\n",
              "      <td>18.000000</td>\n",
              "      <td>311867.000000</td>\n",
              "      <td>8.000000</td>\n",
              "      <td>8.000000</td>\n",
              "      <td>7.000000</td>\n",
              "      <td>4.042886e+08</td>\n",
              "      <td>8.000000</td>\n",
              "    </tr>\n",
              "  </tbody>\n",
              "</table>\n",
              "</div>"
            ],
            "text/plain": [
              "                 Id             Y  ...           f23           f24\n",
              "count  16383.000000  16383.000000  ...  1.638300e+04  16383.000000\n",
              "mean    8192.000000      0.942135  ...  3.271890e+04      1.043948\n",
              "std     4729.509065      0.233495  ...  3.184929e+06      0.259640\n",
              "min        1.000000      0.000000  ...  1.000000e+00      1.000000\n",
              "25%     4096.500000      1.000000  ...  1.000000e+00      1.000000\n",
              "50%     8192.000000      1.000000  ...  2.000000e+00      1.000000\n",
              "75%    12287.500000      1.000000  ...  9.000000e+00      1.000000\n",
              "max    16383.000000      1.000000  ...  4.042886e+08      8.000000\n",
              "\n",
              "[8 rows x 26 columns]"
            ]
          },
          "metadata": {
            "tags": []
          },
          "execution_count": 28
        }
      ]
    },
    {
      "cell_type": "code",
      "metadata": {
        "id": "4Vlnypws24mm",
        "colab_type": "code",
        "outputId": "c3be8c54-ed02-4df8-b9b4-ac038ca54b4e",
        "colab": {
          "base_uri": "https://localhost:8080/",
          "height": 497
        }
      },
      "source": [
        "# check null values\n",
        "train_df.isnull().sum()"
      ],
      "execution_count": 0,
      "outputs": [
        {
          "output_type": "execute_result",
          "data": {
            "text/plain": [
              "Id     0\n",
              "Y      0\n",
              "f1     0\n",
              "f2     0\n",
              "f3     0\n",
              "f4     0\n",
              "f5     0\n",
              "f6     0\n",
              "f7     0\n",
              "f8     0\n",
              "f9     0\n",
              "f10    0\n",
              "f11    0\n",
              "f12    0\n",
              "f13    0\n",
              "f14    0\n",
              "f15    0\n",
              "f16    0\n",
              "f17    0\n",
              "f18    0\n",
              "f19    0\n",
              "f20    0\n",
              "f21    0\n",
              "f22    0\n",
              "f23    0\n",
              "f24    0\n",
              "dtype: int64"
            ]
          },
          "metadata": {
            "tags": []
          },
          "execution_count": 42
        }
      ]
    },
    {
      "cell_type": "code",
      "metadata": {
        "id": "T-nfj2VD29a-",
        "colab_type": "code",
        "outputId": "70a7b8bd-15f1-4336-fd3f-db073bd3410e",
        "colab": {
          "base_uri": "https://localhost:8080/",
          "height": 479
        }
      },
      "source": [
        "# check null values\n",
        "test_df.isnull().sum()"
      ],
      "execution_count": 0,
      "outputs": [
        {
          "output_type": "execute_result",
          "data": {
            "text/plain": [
              "Id     0\n",
              "f1     0\n",
              "f2     0\n",
              "f3     0\n",
              "f4     0\n",
              "f5     0\n",
              "f6     0\n",
              "f7     0\n",
              "f8     0\n",
              "f9     0\n",
              "f10    0\n",
              "f11    0\n",
              "f12    0\n",
              "f13    0\n",
              "f14    0\n",
              "f15    0\n",
              "f16    0\n",
              "f17    0\n",
              "f18    0\n",
              "f19    0\n",
              "f20    0\n",
              "f21    0\n",
              "f22    0\n",
              "f23    0\n",
              "f24    0\n",
              "dtype: int64"
            ]
          },
          "metadata": {
            "tags": []
          },
          "execution_count": 43
        }
      ]
    },
    {
      "cell_type": "code",
      "metadata": {
        "id": "RdkbwZBa-Lfn",
        "colab_type": "code",
        "colab": {
          "base_uri": "https://localhost:8080/",
          "height": 302
        },
        "outputId": "db4f80a7-12f6-4d26-e561-61ef22c8d417"
      },
      "source": [
        "train_df.describe()"
      ],
      "execution_count": 150,
      "outputs": [
        {
          "output_type": "execute_result",
          "data": {
            "text/html": [
              "<div>\n",
              "<style scoped>\n",
              "    .dataframe tbody tr th:only-of-type {\n",
              "        vertical-align: middle;\n",
              "    }\n",
              "\n",
              "    .dataframe tbody tr th {\n",
              "        vertical-align: top;\n",
              "    }\n",
              "\n",
              "    .dataframe thead th {\n",
              "        text-align: right;\n",
              "    }\n",
              "</style>\n",
              "<table border=\"1\" class=\"dataframe\">\n",
              "  <thead>\n",
              "    <tr style=\"text-align: right;\">\n",
              "      <th></th>\n",
              "      <th>Id</th>\n",
              "      <th>Y</th>\n",
              "      <th>f1</th>\n",
              "      <th>f2</th>\n",
              "      <th>f3</th>\n",
              "      <th>f4</th>\n",
              "      <th>f5</th>\n",
              "      <th>f6</th>\n",
              "      <th>f7</th>\n",
              "      <th>f8</th>\n",
              "      <th>f9</th>\n",
              "      <th>f10</th>\n",
              "      <th>f11</th>\n",
              "      <th>f12</th>\n",
              "      <th>f13</th>\n",
              "      <th>f14</th>\n",
              "      <th>f15</th>\n",
              "      <th>f16</th>\n",
              "      <th>f17</th>\n",
              "      <th>f18</th>\n",
              "      <th>f19</th>\n",
              "      <th>f20</th>\n",
              "      <th>f21</th>\n",
              "      <th>f22</th>\n",
              "      <th>f23</th>\n",
              "      <th>f24</th>\n",
              "    </tr>\n",
              "  </thead>\n",
              "  <tbody>\n",
              "    <tr>\n",
              "      <th>count</th>\n",
              "      <td>16383.000000</td>\n",
              "      <td>16383.000000</td>\n",
              "      <td>16383.000000</td>\n",
              "      <td>16383.000000</td>\n",
              "      <td>16383.000000</td>\n",
              "      <td>16383.000000</td>\n",
              "      <td>16383.000000</td>\n",
              "      <td>16383.000000</td>\n",
              "      <td>16383.000000</td>\n",
              "      <td>16383.000000</td>\n",
              "      <td>16383.000000</td>\n",
              "      <td>16383.000000</td>\n",
              "      <td>16383.000000</td>\n",
              "      <td>16383.000000</td>\n",
              "      <td>16383.000000</td>\n",
              "      <td>16383.000000</td>\n",
              "      <td>16383.000000</td>\n",
              "      <td>16383.000000</td>\n",
              "      <td>16383.000000</td>\n",
              "      <td>16383.000000</td>\n",
              "      <td>16383.000000</td>\n",
              "      <td>16383.000000</td>\n",
              "      <td>16383.000000</td>\n",
              "      <td>16383.000000</td>\n",
              "      <td>1.638300e+04</td>\n",
              "      <td>16383.000000</td>\n",
              "    </tr>\n",
              "    <tr>\n",
              "      <th>mean</th>\n",
              "      <td>8192.000000</td>\n",
              "      <td>0.942135</td>\n",
              "      <td>43007.775865</td>\n",
              "      <td>1.044375</td>\n",
              "      <td>11.770938</td>\n",
              "      <td>118323.581456</td>\n",
              "      <td>1.044436</td>\n",
              "      <td>0.050052</td>\n",
              "      <td>117089.674113</td>\n",
              "      <td>169730.178600</td>\n",
              "      <td>1.041812</td>\n",
              "      <td>4.976317</td>\n",
              "      <td>1.042483</td>\n",
              "      <td>6.378380</td>\n",
              "      <td>119774.307941</td>\n",
              "      <td>0.293940</td>\n",
              "      <td>25894.316914</td>\n",
              "      <td>119045.099005</td>\n",
              "      <td>184622.040835</td>\n",
              "      <td>1.047305</td>\n",
              "      <td>125959.667765</td>\n",
              "      <td>1.044558</td>\n",
              "      <td>1.045718</td>\n",
              "      <td>1.041934</td>\n",
              "      <td>3.271890e+04</td>\n",
              "      <td>1.043948</td>\n",
              "    </tr>\n",
              "    <tr>\n",
              "      <th>std</th>\n",
              "      <td>4729.509065</td>\n",
              "      <td>0.233495</td>\n",
              "      <td>33611.182771</td>\n",
              "      <td>0.264806</td>\n",
              "      <td>353.187115</td>\n",
              "      <td>4518.059755</td>\n",
              "      <td>0.265601</td>\n",
              "      <td>0.293892</td>\n",
              "      <td>10261.292970</td>\n",
              "      <td>69396.677853</td>\n",
              "      <td>0.258226</td>\n",
              "      <td>65.629620</td>\n",
              "      <td>0.254664</td>\n",
              "      <td>108.216528</td>\n",
              "      <td>5609.093416</td>\n",
              "      <td>1.728999</td>\n",
              "      <td>36086.993946</td>\n",
              "      <td>18321.987129</td>\n",
              "      <td>100590.811845</td>\n",
              "      <td>0.306239</td>\n",
              "      <td>31091.344158</td>\n",
              "      <td>0.262576</td>\n",
              "      <td>0.266874</td>\n",
              "      <td>0.246597</td>\n",
              "      <td>3.184929e+06</td>\n",
              "      <td>0.259640</td>\n",
              "    </tr>\n",
              "    <tr>\n",
              "      <th>min</th>\n",
              "      <td>1.000000</td>\n",
              "      <td>0.000000</td>\n",
              "      <td>-1.000000</td>\n",
              "      <td>1.000000</td>\n",
              "      <td>1.770000</td>\n",
              "      <td>23779.000000</td>\n",
              "      <td>1.000000</td>\n",
              "      <td>0.000000</td>\n",
              "      <td>4292.000000</td>\n",
              "      <td>4673.000000</td>\n",
              "      <td>1.000000</td>\n",
              "      <td>0.000000</td>\n",
              "      <td>1.000000</td>\n",
              "      <td>1.000000</td>\n",
              "      <td>117880.000000</td>\n",
              "      <td>-7.446045</td>\n",
              "      <td>25.000000</td>\n",
              "      <td>4674.000000</td>\n",
              "      <td>3130.000000</td>\n",
              "      <td>1.000000</td>\n",
              "      <td>117879.000000</td>\n",
              "      <td>1.000000</td>\n",
              "      <td>1.000000</td>\n",
              "      <td>1.000000</td>\n",
              "      <td>1.000000e+00</td>\n",
              "      <td>1.000000</td>\n",
              "    </tr>\n",
              "    <tr>\n",
              "      <th>25%</th>\n",
              "      <td>4096.500000</td>\n",
              "      <td>1.000000</td>\n",
              "      <td>20311.000000</td>\n",
              "      <td>1.000000</td>\n",
              "      <td>1.770000</td>\n",
              "      <td>118096.000000</td>\n",
              "      <td>1.000000</td>\n",
              "      <td>0.000000</td>\n",
              "      <td>117961.000000</td>\n",
              "      <td>117906.000000</td>\n",
              "      <td>1.000000</td>\n",
              "      <td>0.000000</td>\n",
              "      <td>1.000000</td>\n",
              "      <td>1.000000</td>\n",
              "      <td>118232.000000</td>\n",
              "      <td>-0.704562</td>\n",
              "      <td>4554.000000</td>\n",
              "      <td>118395.000000</td>\n",
              "      <td>118398.000000</td>\n",
              "      <td>1.000000</td>\n",
              "      <td>118274.000000</td>\n",
              "      <td>1.000000</td>\n",
              "      <td>1.000000</td>\n",
              "      <td>1.000000</td>\n",
              "      <td>1.000000e+00</td>\n",
              "      <td>1.000000</td>\n",
              "    </tr>\n",
              "    <tr>\n",
              "      <th>50%</th>\n",
              "      <td>8192.000000</td>\n",
              "      <td>1.000000</td>\n",
              "      <td>35527.000000</td>\n",
              "      <td>1.000000</td>\n",
              "      <td>1.770000</td>\n",
              "      <td>118300.000000</td>\n",
              "      <td>1.000000</td>\n",
              "      <td>0.000000</td>\n",
              "      <td>117961.000000</td>\n",
              "      <td>128130.000000</td>\n",
              "      <td>1.000000</td>\n",
              "      <td>0.000000</td>\n",
              "      <td>1.000000</td>\n",
              "      <td>1.000000</td>\n",
              "      <td>118565.000000</td>\n",
              "      <td>1.000000</td>\n",
              "      <td>13234.000000</td>\n",
              "      <td>118929.000000</td>\n",
              "      <td>119095.000000</td>\n",
              "      <td>1.000000</td>\n",
              "      <td>118568.000000</td>\n",
              "      <td>1.000000</td>\n",
              "      <td>1.000000</td>\n",
              "      <td>1.000000</td>\n",
              "      <td>2.000000e+00</td>\n",
              "      <td>1.000000</td>\n",
              "    </tr>\n",
              "    <tr>\n",
              "      <th>75%</th>\n",
              "      <td>12287.500000</td>\n",
              "      <td>1.000000</td>\n",
              "      <td>74240.500000</td>\n",
              "      <td>1.000000</td>\n",
              "      <td>3.540000</td>\n",
              "      <td>118386.000000</td>\n",
              "      <td>1.000000</td>\n",
              "      <td>0.000000</td>\n",
              "      <td>117961.000000</td>\n",
              "      <td>234498.500000</td>\n",
              "      <td>1.000000</td>\n",
              "      <td>1.000000</td>\n",
              "      <td>1.000000</td>\n",
              "      <td>2.000000</td>\n",
              "      <td>119348.000000</td>\n",
              "      <td>1.000000</td>\n",
              "      <td>38902.000000</td>\n",
              "      <td>120539.000000</td>\n",
              "      <td>290919.000000</td>\n",
              "      <td>1.000000</td>\n",
              "      <td>120006.000000</td>\n",
              "      <td>1.000000</td>\n",
              "      <td>1.000000</td>\n",
              "      <td>1.000000</td>\n",
              "      <td>9.000000e+00</td>\n",
              "      <td>1.000000</td>\n",
              "    </tr>\n",
              "    <tr>\n",
              "      <th>max</th>\n",
              "      <td>16383.000000</td>\n",
              "      <td>1.000000</td>\n",
              "      <td>312152.000000</td>\n",
              "      <td>7.000000</td>\n",
              "      <td>43910.160000</td>\n",
              "      <td>286791.000000</td>\n",
              "      <td>9.000000</td>\n",
              "      <td>10.000000</td>\n",
              "      <td>311178.000000</td>\n",
              "      <td>311867.000000</td>\n",
              "      <td>11.000000</td>\n",
              "      <td>5036.000000</td>\n",
              "      <td>8.000000</td>\n",
              "      <td>10076.000000</td>\n",
              "      <td>270691.000000</td>\n",
              "      <td>7.398682</td>\n",
              "      <td>311696.000000</td>\n",
              "      <td>286792.000000</td>\n",
              "      <td>308574.000000</td>\n",
              "      <td>18.000000</td>\n",
              "      <td>311867.000000</td>\n",
              "      <td>8.000000</td>\n",
              "      <td>8.000000</td>\n",
              "      <td>7.000000</td>\n",
              "      <td>4.042886e+08</td>\n",
              "      <td>8.000000</td>\n",
              "    </tr>\n",
              "  </tbody>\n",
              "</table>\n",
              "</div>"
            ],
            "text/plain": [
              "                 Id             Y  ...           f23           f24\n",
              "count  16383.000000  16383.000000  ...  1.638300e+04  16383.000000\n",
              "mean    8192.000000      0.942135  ...  3.271890e+04      1.043948\n",
              "std     4729.509065      0.233495  ...  3.184929e+06      0.259640\n",
              "min        1.000000      0.000000  ...  1.000000e+00      1.000000\n",
              "25%     4096.500000      1.000000  ...  1.000000e+00      1.000000\n",
              "50%     8192.000000      1.000000  ...  2.000000e+00      1.000000\n",
              "75%    12287.500000      1.000000  ...  9.000000e+00      1.000000\n",
              "max    16383.000000      1.000000  ...  4.042886e+08      8.000000\n",
              "\n",
              "[8 rows x 26 columns]"
            ]
          },
          "metadata": {
            "tags": []
          },
          "execution_count": 150
        }
      ]
    },
    {
      "cell_type": "code",
      "metadata": {
        "id": "KH6g95I82_YK",
        "colab_type": "code",
        "outputId": "2169a08a-23ca-48f7-999f-5b16e961d3ac",
        "colab": {
          "base_uri": "https://localhost:8080/",
          "height": 596
        }
      },
      "source": [
        "# Set up the matplotlib figure\n",
        "f, ax = plt.subplots(figsize=(15,10))\n",
        "\n",
        "#https://www.kaggle.com/qianchao/smote-with-imbalance-data\n",
        "\n",
        "sns.heatmap(train_df.corr(), annot = False, vmin=-1, vmax=1, center= 0, cmap= 'coolwarm', linewidths=0.01, linecolor='white')\n",
        "\n",
        "plt.show()"
      ],
      "execution_count": 62,
      "outputs": [
        {
          "output_type": "display_data",
          "data": {
            "image/png": "[encoded data removed]",
            "text/plain": [
              "<Figure size 1080x720 with 2 Axes>"
            ]
          },
          "metadata": {
            "tags": []
          }
        }
      ]
    },
    {
      "cell_type": "markdown",
      "metadata": {
        "id": "yW4ds15oB8uz",
        "colab_type": "text"
      },
      "source": [
        "\n",
        "![image.png](data:image/png;base64,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)"
      ]
    },
    {
      "cell_type": "markdown",
      "metadata": {
        "id": "UOcUYgouMa6-",
        "colab_type": "text"
      },
      "source": [
        "From the correlation plot we observe that no two variables are highly co-related.\n"
      ]
    },
    {
      "cell_type": "code",
      "metadata": {
        "id": "YmR9QzsK3FZx",
        "colab_type": "code",
        "outputId": "5252d960-29c6-4d77-862a-785703fa3c56",
        "colab": {
          "base_uri": "https://localhost:8080/",
          "height": 418
        }
      },
      "source": [
        "# Checking the distribution of target varibale w.r.t class 0 or class 1\n",
        "\n",
        "class_dist = pd.value_counts(train_df['Y'],sort=True)\n",
        "class_dist.plot(kind='bar',colormap=\"plasma\",figsize=(6,6))\n",
        "plt.title(\"Class Distribution\")\n",
        "plt.xlabel(\"Class\")\n",
        "plt.ylabel(\"Frequency\")"
      ],
      "execution_count": 63,
      "outputs": [
        {
          "output_type": "execute_result",
          "data": {
            "text/plain": [
              "Text(0, 0.5, 'Frequency')"
            ]
          },
          "metadata": {
            "tags": []
          },
          "execution_count": 63
        },
        {
          "output_type": "display_data",
          "data": {
            "image/png": "[encoded data removed]",
            "text/plain": [
              "<Figure size 432x432 with 1 Axes>"
            ]
          },
          "metadata": {
            "tags": []
          }
        }
      ]
    },
    {
      "cell_type": "markdown",
      "metadata": {
        "id": "DobDqQOFImPL",
        "colab_type": "text"
      },
      "source": [
        "![image.png](data:image/png;base64,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)"
      ]
    },
    {
      "cell_type": "code",
      "metadata": {
        "id": "wEeL-xTw3JAD",
        "colab_type": "code",
        "outputId": "9946f7ba-ee61-4ec1-ca8b-cbba9b7af991",
        "colab": {
          "base_uri": "https://localhost:8080/",
          "height": 70
        }
      },
      "source": [
        "train_df['Y'].value_counts()"
      ],
      "execution_count": 64,
      "outputs": [
        {
          "output_type": "execute_result",
          "data": {
            "text/plain": [
              "1    15435\n",
              "0      948\n",
              "Name: Y, dtype: int64"
            ]
          },
          "metadata": {
            "tags": []
          },
          "execution_count": 64
        }
      ]
    },
    {
      "cell_type": "code",
      "metadata": {
        "id": "v36KUqAS3LvQ",
        "colab_type": "code",
        "outputId": "55e7dfbf-0766-4573-95e1-76ede45aebba",
        "colab": {
          "base_uri": "https://localhost:8080/",
          "height": 52
        }
      },
      "source": [
        "print('Number of records that belong to class 0:',train_df['Y'].value_counts()[0])\n",
        "print('Number of records that belong to class 1:',train_df['Y'].value_counts()[1])"
      ],
      "execution_count": 65,
      "outputs": [
        {
          "output_type": "stream",
          "text": [
            "Number of records that belong to class 0: 948\n",
            "Number of records that belong to class 1: 15435\n"
          ],
          "name": "stdout"
        }
      ]
    },
    {
      "cell_type": "code",
      "metadata": {
        "id": "-KIlomPz3OIE",
        "colab_type": "code",
        "outputId": "a2c64794-255f-426a-f2f7-d6dba4cb5d64",
        "colab": {
          "base_uri": "https://localhost:8080/",
          "height": 1000
        }
      },
      "source": [
        "#https://analyticsindiamag.com/7-types-classification-algorithms/\n",
        "## we check the distribution of f2, f5, f6, f9, f11, f18, f20, f21, f22 and f24 have almost same distribution for both 0's and 1's \n",
        "## Therefore it will be difficult for the algorithm to seperate 1's and 0's from these distribution\n",
        "features = train_df.drop(['Id','Y'],axis=1)\n",
        "col = features.columns\n",
        "position=0\n",
        "fig = plt.figure()\n",
        "fig, ax = plt.subplots(5,5,figsize=(25,30))\n",
        "for feature in col:\n",
        "   position = position + 1\n",
        "   ax = plt.subplot(6,4,position)\n",
        "   sns.boxplot(x=train_df['Y'],y=train_df[feature],data=train_df)\n",
        "plt.show()\n"
      ],
      "execution_count": 66,
      "outputs": [
        {
          "output_type": "display_data",
          "data": {
            "text/plain": [
              "<Figure size 432x288 with 0 Axes>"
            ]
          },
          "metadata": {
            "tags": []
          }
        },
        {
          "output_type": "display_data",
          "data": {
            "image/png": "[encoded data removed]",
            "text/plain": [
              "<Figure size 1800x2160 with 24 Axes>"
            ]
          },
          "metadata": {
            "tags": []
          }
        }
      ]
    },
    {
      "cell_type": "code",
      "metadata": {
        "id": "lxLZQe4P3RsD",
        "colab_type": "code",
        "outputId": "4cdd77f4-9e57-47a0-c308-ecb94380e189",
        "colab": {
          "base_uri": "https://localhost:8080/",
          "height": 1000
        }
      },
      "source": [
        "train_C0 = train_df[train_df['Y']==0]\n",
        "train_C1 = train_df[train_df['Y']==1]\n",
        "\n",
        "\n",
        "#https://matplotlib.org/3.1.0/gallery/subplots_axes_and_figures/subplots_demo.html\n",
        "\n",
        "position=0\n",
        "fig = plt.figure()\n",
        "fig, ax = plt.subplots(5,5,figsize=(25,30))\n",
        "for feature in col:\n",
        "    position = position + 1\n",
        "    ax = plt.subplot(6,4,position)\n",
        "    sns.kdeplot(train_C1[feature],label = 1)\n",
        "    sns.kdeplot(train_C0[feature], label = 0)\n",
        "    ax.set_xlabel(feature)\n",
        "    ax.set_title('Distribution of feature: ' + str(feature))\n",
        "    plt.legend(loc='best')\n",
        "plt.show()"
      ],
      "execution_count": 67,
      "outputs": [
        {
          "output_type": "display_data",
          "data": {
            "text/plain": [
              "<Figure size 432x288 with 0 Axes>"
            ]
          },
          "metadata": {
            "tags": []
          }
        },
        {
          "output_type": "display_data",
          "data": {
            "image/png": "[encoded data removed]",
            "text/plain": [
              "<Figure size 1800x2160 with 24 Axes>"
            ]
          },
          "metadata": {
            "tags": []
          }
        }
      ]
    },
    {
      "cell_type": "code",
      "metadata": {
        "id": "sfEp4-bx3Yrf",
        "colab_type": "code",
        "colab": {}
      },
      "source": [
        "# f24,f5,f6,f11,f20,f22,f9,f2,f18,f21 have less feature importance\n",
        "# f24,f22,f21,f20,f9,f18,f9,f6,f5,f11 have almost same distribution for both class = 0 and class = 1 \n",
        "X = train_df.iloc[:,2:]\n",
        "y = train_df.iloc[:,1]\n",
        "X_test = test_df.iloc[:,1:]"
      ],
      "execution_count": 0,
      "outputs": []
    },
    {
      "cell_type": "code",
      "metadata": {
        "id": "JwG7YmKq3o_9",
        "colab_type": "code",
        "outputId": "23809645-e352-41f5-cded-197aff470c07",
        "colab": {
          "base_uri": "https://localhost:8080/",
          "height": 677
        }
      },
      "source": [
        "#Feature Importance\n",
        "\n",
        "#https://scikit-learn.org/stable/auto_examples/ensemble/plot_forest_importances.html feature importance\n",
        "#https://towardsdatascience.com/feature-selection-techniques-in-machine-learning-with-python-f24e7da3f36e\n",
        "\n",
        "from sklearn.ensemble import ExtraTreesClassifier\n",
        "import matplotlib.pyplot as plt\n",
        "fig = plt.figure(figsize=(15,10))\n",
        "model = ExtraTreesClassifier()\n",
        "model.fit(X,y)\n",
        "print(model.feature_importances_) #use inbuilt class feature_importances of tree based classifiers\n",
        "#plot graph of feature importances for better visualization\n",
        "feat_importances = pd.Series(model.feature_importances_, index=X.columns)\n",
        "feat_importances.sort_values(ascending=False).plot(kind='barh')\n",
        "plt.xlabel('Feature Importance (Gini Importance)')\n",
        "plt.ylabel('List of Features')\n",
        "plt.show()"
      ],
      "execution_count": 69,
      "outputs": [
        {
          "output_type": "stream",
          "text": [
            "[0.08637111 0.00890202 0.05470001 0.0791274  0.0068973  0.00644278\n",
            " 0.04117849 0.06100794 0.00825921 0.05486348 0.00718187 0.05754287\n",
            " 0.04220802 0.13112266 0.08733861 0.0770257  0.03778431 0.00914863\n",
            " 0.04092311 0.0073711  0.00841888 0.00800404 0.07262171 0.00555874]\n"
          ],
          "name": "stdout"
        },
        {
          "output_type": "display_data",
          "data": {
            "image/png": "[encoded data removed]",
            "text/plain": [
              "<Figure size 1080x720 with 1 Axes>"
            ]
          },
          "metadata": {
            "tags": []
          }
        }
      ]
    },
    {
      "cell_type": "code",
      "metadata": {
        "id": "vHZvF0Dp3zLL",
        "colab_type": "code",
        "colab": {}
      },
      "source": [
        "# From the above feature importance plot we can observe that these 10 features have least values for gini importance: f24,f5,f6,f11,f20,f22,f9,f2,f18,f21 \n",
        "# so we can try removing it from the test and train sets\n",
        "\n",
        "train_df_final = train_df.drop(['f24','f22','f21','f20','f9','f18','f9','f6','f5','f11'],axis=1)\n",
        "test_df_final = test_df.drop(['f24','f22','f21','f20','f9','f18','f9','f6','f5','f11'],axis=1)"
      ],
      "execution_count": 0,
      "outputs": []
    },
    {
      "cell_type": "code",
      "metadata": {
        "id": "AnvFenn9USUj",
        "colab_type": "code",
        "outputId": "67a3f952-917f-455e-f8bc-3a909c431ff4",
        "colab": {
          "base_uri": "https://localhost:8080/",
          "height": 194
        }
      },
      "source": [
        "test_df_final.head()"
      ],
      "execution_count": 71,
      "outputs": [
        {
          "output_type": "execute_result",
          "data": {
            "text/html": [
              "<div>\n",
              "<style scoped>\n",
              "    .dataframe tbody tr th:only-of-type {\n",
              "        vertical-align: middle;\n",
              "    }\n",
              "\n",
              "    .dataframe tbody tr th {\n",
              "        vertical-align: top;\n",
              "    }\n",
              "\n",
              "    .dataframe thead th {\n",
              "        text-align: right;\n",
              "    }\n",
              "</style>\n",
              "<table border=\"1\" class=\"dataframe\">\n",
              "  <thead>\n",
              "    <tr style=\"text-align: right;\">\n",
              "      <th></th>\n",
              "      <th>Id</th>\n",
              "      <th>f1</th>\n",
              "      <th>f2</th>\n",
              "      <th>f3</th>\n",
              "      <th>f4</th>\n",
              "      <th>f7</th>\n",
              "      <th>f8</th>\n",
              "      <th>f10</th>\n",
              "      <th>f12</th>\n",
              "      <th>f13</th>\n",
              "      <th>f14</th>\n",
              "      <th>f15</th>\n",
              "      <th>f16</th>\n",
              "      <th>f17</th>\n",
              "      <th>f19</th>\n",
              "      <th>f23</th>\n",
              "    </tr>\n",
              "  </thead>\n",
              "  <tbody>\n",
              "    <tr>\n",
              "      <th>0</th>\n",
              "      <td>16384</td>\n",
              "      <td>37733</td>\n",
              "      <td>1</td>\n",
              "      <td>1.77</td>\n",
              "      <td>118603</td>\n",
              "      <td>118602</td>\n",
              "      <td>118097</td>\n",
              "      <td>0</td>\n",
              "      <td>1</td>\n",
              "      <td>117888</td>\n",
              "      <td>2.453740</td>\n",
              "      <td>13881</td>\n",
              "      <td>117941</td>\n",
              "      <td>117887</td>\n",
              "      <td>117885</td>\n",
              "      <td>1</td>\n",
              "    </tr>\n",
              "    <tr>\n",
              "      <th>1</th>\n",
              "      <td>16385</td>\n",
              "      <td>312129</td>\n",
              "      <td>1</td>\n",
              "      <td>3.54</td>\n",
              "      <td>118052</td>\n",
              "      <td>117961</td>\n",
              "      <td>290919</td>\n",
              "      <td>4</td>\n",
              "      <td>43</td>\n",
              "      <td>118322</td>\n",
              "      <td>-0.012317</td>\n",
              "      <td>14638</td>\n",
              "      <td>118992</td>\n",
              "      <td>290919</td>\n",
              "      <td>118321</td>\n",
              "      <td>7</td>\n",
              "    </tr>\n",
              "    <tr>\n",
              "      <th>2</th>\n",
              "      <td>16386</td>\n",
              "      <td>24884</td>\n",
              "      <td>1</td>\n",
              "      <td>23.01</td>\n",
              "      <td>118300</td>\n",
              "      <td>117961</td>\n",
              "      <td>302830</td>\n",
              "      <td>0</td>\n",
              "      <td>1</td>\n",
              "      <td>128231</td>\n",
              "      <td>1.000000</td>\n",
              "      <td>770</td>\n",
              "      <td>119181</td>\n",
              "      <td>4673</td>\n",
              "      <td>128230</td>\n",
              "      <td>14</td>\n",
              "    </tr>\n",
              "    <tr>\n",
              "      <th>3</th>\n",
              "      <td>16387</td>\n",
              "      <td>4674</td>\n",
              "      <td>1</td>\n",
              "      <td>1.77</td>\n",
              "      <td>119091</td>\n",
              "      <td>119062</td>\n",
              "      <td>118036</td>\n",
              "      <td>9</td>\n",
              "      <td>1</td>\n",
              "      <td>117908</td>\n",
              "      <td>1.000000</td>\n",
              "      <td>16752</td>\n",
              "      <td>143531</td>\n",
              "      <td>290919</td>\n",
              "      <td>117905</td>\n",
              "      <td>81</td>\n",
              "    </tr>\n",
              "    <tr>\n",
              "      <th>4</th>\n",
              "      <td>16388</td>\n",
              "      <td>68725</td>\n",
              "      <td>1</td>\n",
              "      <td>3.54</td>\n",
              "      <td>118300</td>\n",
              "      <td>117961</td>\n",
              "      <td>171056</td>\n",
              "      <td>0</td>\n",
              "      <td>6</td>\n",
              "      <td>118639</td>\n",
              "      <td>-0.503250</td>\n",
              "      <td>4945</td>\n",
              "      <td>118360</td>\n",
              "      <td>118638</td>\n",
              "      <td>118636</td>\n",
              "      <td>1</td>\n",
              "    </tr>\n",
              "  </tbody>\n",
              "</table>\n",
              "</div>"
            ],
            "text/plain": [
              "      Id      f1  f2     f3      f4  ...    f15     f16     f17     f19  f23\n",
              "0  16384   37733   1   1.77  118603  ...  13881  117941  117887  117885    1\n",
              "1  16385  312129   1   3.54  118052  ...  14638  118992  290919  118321    7\n",
              "2  16386   24884   1  23.01  118300  ...    770  119181    4673  128230   14\n",
              "3  16387    4674   1   1.77  119091  ...  16752  143531  290919  117905   81\n",
              "4  16388   68725   1   3.54  118300  ...   4945  118360  118638  118636    1\n",
              "\n",
              "[5 rows x 16 columns]"
            ]
          },
          "metadata": {
            "tags": []
          },
          "execution_count": 71
        }
      ]
    },
    {
      "cell_type": "code",
      "metadata": {
        "id": "Zv2DRoxQG1kC",
        "colab_type": "code",
        "colab": {}
      },
      "source": [
        "# f24,f5,f6,f11,f20,f22,f9,f2,f18,f21 have less feature importance\n",
        "# f24,f22,f21,f20,f9,f18,f9,f6,f5,f11 have almost same distribution for both class = 0 and class = 1 \n",
        "\n",
        "X_final = train_df_final.iloc[:,2:]\n",
        "y_final = train_df_final.iloc[:,1]\n",
        "test_final = test_df_final.iloc[:,1:]"
      ],
      "execution_count": 0,
      "outputs": []
    },
    {
      "cell_type": "code",
      "metadata": {
        "id": "q0QcZ83WhSU9",
        "colab_type": "code",
        "outputId": "ad29b1e2-330f-4a4c-b02e-2b25070c7c7f",
        "colab": {
          "base_uri": "https://localhost:8080/",
          "height": 70
        }
      },
      "source": [
        "train_df_final.columns"
      ],
      "execution_count": 73,
      "outputs": [
        {
          "output_type": "execute_result",
          "data": {
            "text/plain": [
              "Index(['Id', 'Y', 'f1', 'f2', 'f3', 'f4', 'f7', 'f8', 'f10', 'f12', 'f13',\n",
              "       'f14', 'f15', 'f16', 'f17', 'f19', 'f23'],\n",
              "      dtype='object')"
            ]
          },
          "metadata": {
            "tags": []
          },
          "execution_count": 73
        }
      ]
    },
    {
      "cell_type": "markdown",
      "metadata": {
        "id": "NjuzoGAGM80s",
        "colab_type": "text"
      },
      "source": [
        "In the below steps I was trying to normalize the data but I dont know where I was going wrong because I was getting a score of 0.54 on public leader board with normalized data and xgb\n"
      ]
    },
    {
      "cell_type": "code",
      "metadata": {
        "id": "8PXITMyth17D",
        "colab_type": "code",
        "colab": {}
      },
      "source": [
        "\n",
        "# from sklearn.preprocessing import StandardScaler\n",
        "# from sklearn import preprocessing \n",
        "# nparray = train_df_final.drop(['Id','Y'],axis=1).values #returns a numpy array\n",
        "# min_max_scaler = preprocessing.MinMaxScaler()\n",
        "# nparray\n",
        "# train_scaled = min_max_scaler.fit_transform(nparray)\n",
        "# train_scaled.shape"
      ],
      "execution_count": 0,
      "outputs": []
    },
    {
      "cell_type": "code",
      "metadata": {
        "id": "loifpq2vhBVZ",
        "colab_type": "code",
        "colab": {}
      },
      "source": [
        "# train_scaled = min_max_scaler.fit_transform(nparray)\n",
        "# train_scaled\n",
        "# train_normalize = pd.DataFrame(train_scaled)\n",
        "# train_normalize.columns = 'f1', 'f2', 'f3', 'f4','f7', 'f8', 'f10', 'f12', 'f13', 'f14', 'f15', 'f16','f17','f19','f23'\n",
        "# train_final = pd.concat([train_df_final.iloc[:,:2],train_normalize],axis=1)"
      ],
      "execution_count": 0,
      "outputs": []
    },
    {
      "cell_type": "code",
      "metadata": {
        "id": "Kn_01338H-Hq",
        "colab_type": "code",
        "colab": {}
      },
      "source": [
        "##Splitting dataset for cross validation\n",
        "X_train, X_test, y_train, y_test = train_test_split(X_final, y_final, test_size=0.33, random_state=42)\n",
        "\n",
        "def cross_validation(model,X_train,y_train,modelName):\n",
        "    scoring = 'roc_auc'\n",
        "    score = model_selection.cross_val_score(model, X_train, y_train, cv = 10, scoring=scoring)\n",
        "    mean_score = score.mean()\n",
        "    print(\"ROC-AUC Value for \" + str(modelName) + \": %.3f (%.3f)\" % (score.mean(), score.std()))\n",
        "    return mean_score"
      ],
      "execution_count": 0,
      "outputs": []
    },
    {
      "cell_type": "code",
      "metadata": {
        "id": "tqTkzpLTKg1_",
        "colab_type": "code",
        "colab": {}
      },
      "source": [
        "# since we need to perform the below steps many times I tried to make a generalized function to predict the test data and download the result file\n",
        "\n",
        "def predictionsOutput(model,testData,modelname):\n",
        "  predictions = model.predict_proba(testData)\n",
        "  result = pd.DataFrame({\"Id\": test_df[\"Id\"], 'Y':predictions[:,1]})\n",
        "  file_name = 'predictions' + str(modelname) + '.csv'\n",
        "  result.to_csv(file_name, index=False)\n",
        "  files.download(file_name)\n",
        "  \n"
      ],
      "execution_count": 0,
      "outputs": []
    },
    {
      "cell_type": "markdown",
      "metadata": {
        "id": "3drW__V4joiD",
        "colab_type": "text"
      },
      "source": [
        "## Model 1 : Naive Bayes-GaussianNB\n"
      ]
    },
    {
      "cell_type": "code",
      "metadata": {
        "id": "ttg50QOqey3Z",
        "colab_type": "code",
        "outputId": "29fa0453-60a3-48b8-a2dd-c12143cd9328",
        "colab": {
          "base_uri": "https://localhost:8080/",
          "height": 35
        }
      },
      "source": [
        "from sklearn.naive_bayes import GaussianNB\n",
        "nb = GaussianNB()\n",
        "nb.fit(X_final,y_final)"
      ],
      "execution_count": 0,
      "outputs": [
        {
          "output_type": "execute_result",
          "data": {
            "text/plain": [
              "GaussianNB(priors=None, var_smoothing=1e-09)"
            ]
          },
          "metadata": {
            "tags": []
          },
          "execution_count": 51
        }
      ]
    },
    {
      "cell_type": "code",
      "metadata": {
        "id": "eCwHp0B-iMQo",
        "colab_type": "code",
        "colab": {}
      },
      "source": [
        "predictionsOutput(nb,test_final,'GaussianNB')"
      ],
      "execution_count": 0,
      "outputs": []
    },
    {
      "cell_type": "code",
      "metadata": {
        "id": "FP3zX_-6N0KB",
        "colab_type": "code",
        "colab": {
          "base_uri": "https://localhost:8080/",
          "height": 52
        },
        "outputId": "746e7829-3f7f-4ac1-b0dd-fe533ae79113"
      },
      "source": [
        "cross_validation(nb,X_final,y_final,'Naive-Bayes')"
      ],
      "execution_count": 76,
      "outputs": [
        {
          "output_type": "stream",
          "text": [
            "ROC-AUC Value for Naive-Bayes: 0.564 (0.019)\n"
          ],
          "name": "stdout"
        },
        {
          "output_type": "execute_result",
          "data": {
            "text/plain": [
              "0.5638321086538236"
            ]
          },
          "metadata": {
            "tags": []
          },
          "execution_count": 76
        }
      ]
    },
    {
      "cell_type": "markdown",
      "metadata": {
        "id": "OpfwVOi3OJkM",
        "colab_type": "text"
      },
      "source": [
        "## Model No. 2 Stochastic Gradient Descent Classifier\n",
        "#### The class SGDClassifier implements a plain stochastic gradient descent learning routine which supports different loss functions and penalties for classification."
      ]
    },
    {
      "cell_type": "code",
      "metadata": {
        "id": "rPwYcRPaOIU1",
        "colab_type": "code",
        "colab": {
          "base_uri": "https://localhost:8080/",
          "height": 179
        },
        "outputId": "f18fc524-5171-432f-997a-acfcff6aec09"
      },
      "source": [
        "from sklearn.linear_model import SGDClassifier\n",
        "\n",
        "sdgc_model = SGDClassifier(loss='modified_huber',max_iter=10,shuffle=True,random_state=101)\n",
        "sdgc_model.fit(X_final,y_final)"
      ],
      "execution_count": 92,
      "outputs": [
        {
          "output_type": "stream",
          "text": [
            "/usr/local/lib/python3.6/dist-packages/sklearn/linear_model/_stochastic_gradient.py:557: ConvergenceWarning: Maximum number of iteration reached before convergence. Consider increasing max_iter to improve the fit.\n",
            "  ConvergenceWarning)\n"
          ],
          "name": "stderr"
        },
        {
          "output_type": "execute_result",
          "data": {
            "text/plain": [
              "SGDClassifier(alpha=0.0001, average=False, class_weight=None,\n",
              "              early_stopping=False, epsilon=0.1, eta0=0.0, fit_intercept=True,\n",
              "              l1_ratio=0.15, learning_rate='optimal', loss='modified_huber',\n",
              "              max_iter=10, n_iter_no_change=5, n_jobs=None, penalty='l2',\n",
              "              power_t=0.5, random_state=101, shuffle=True, tol=0.001,\n",
              "              validation_fraction=0.1, verbose=0, warm_start=False)"
            ]
          },
          "metadata": {
            "tags": []
          },
          "execution_count": 92
        }
      ]
    },
    {
      "cell_type": "code",
      "metadata": {
        "id": "1qL5XbHeRJdD",
        "colab_type": "code",
        "colab": {
          "base_uri": "https://localhost:8080/",
          "height": 52
        },
        "outputId": "5340180f-34f1-40d1-9318-1eb609fd0368"
      },
      "source": [
        "cross_validation(sdgc_model,X_final,y_final,'SGDClassifier')"
      ],
      "execution_count": 95,
      "outputs": [
        {
          "output_type": "stream",
          "text": [
            "ROC-AUC Value for SGDClassifier: 0.506 (0.043)\n"
          ],
          "name": "stdout"
        },
        {
          "output_type": "execute_result",
          "data": {
            "text/plain": [
              "0.5064947191913308"
            ]
          },
          "metadata": {
            "tags": []
          },
          "execution_count": 95
        }
      ]
    },
    {
      "cell_type": "code",
      "metadata": {
        "id": "L5pdYnnwQfTT",
        "colab_type": "code",
        "colab": {}
      },
      "source": [
        "predictionsOutput(sdgc_model,test_final,'SGDC_Classifier')"
      ],
      "execution_count": 0,
      "outputs": []
    },
    {
      "cell_type": "markdown",
      "metadata": {
        "id": "FTCu9CxSSBIf",
        "colab_type": "text"
      },
      "source": [
        "## Model No.3:  K- Nearest Neighbours\n",
        "Neighbours based classification is a type of lazy learning as it does not attempt to construct a general internal model, but simply stores instances of the training data. Classification is computed from a simpl`e majority vote of the k nearest neighbours of each point.`"
      ]
    },
    {
      "cell_type": "code",
      "metadata": {
        "id": "hTF6A8U-SLl0",
        "colab_type": "code",
        "colab": {}
      },
      "source": [
        "from sklearn.neighbors import KNeighborsClassifier"
      ],
      "execution_count": 0,
      "outputs": []
    },
    {
      "cell_type": "code",
      "metadata": {
        "id": "1j9RIFpjSba7",
        "colab_type": "code",
        "colab": {
          "base_uri": "https://localhost:8080/",
          "height": 70
        },
        "outputId": "d7afa87a-4832-4e58-b00f-8e8e20efba6c"
      },
      "source": [
        "KNN_Classifier = KNeighborsClassifier(n_neighbors=15)\n",
        "KNN_Classifier.fit(X_final,y_final)"
      ],
      "execution_count": 99,
      "outputs": [
        {
          "output_type": "execute_result",
          "data": {
            "text/plain": [
              "KNeighborsClassifier(algorithm='auto', leaf_size=30, metric='minkowski',\n",
              "                     metric_params=None, n_jobs=None, n_neighbors=15, p=2,\n",
              "                     weights='uniform')"
            ]
          },
          "metadata": {
            "tags": []
          },
          "execution_count": 99
        }
      ]
    },
    {
      "cell_type": "code",
      "metadata": {
        "id": "Vp3NlfbRS8K_",
        "colab_type": "code",
        "colab": {
          "base_uri": "https://localhost:8080/",
          "height": 52
        },
        "outputId": "150c3f1c-8712-41e2-f65a-dede627b3fd5"
      },
      "source": [
        "cross_validation(KNN_Classifier,X_final,y_final,'KNN_Classifier')"
      ],
      "execution_count": 100,
      "outputs": [
        {
          "output_type": "stream",
          "text": [
            "ROC-AUC Value for KNN_Classifier: 0.650 (0.017)\n"
          ],
          "name": "stdout"
        },
        {
          "output_type": "execute_result",
          "data": {
            "text/plain": [
              "0.6496439369304"
            ]
          },
          "metadata": {
            "tags": []
          },
          "execution_count": 100
        }
      ]
    },
    {
      "cell_type": "code",
      "metadata": {
        "id": "ab1AfmnKTJkQ",
        "colab_type": "code",
        "colab": {}
      },
      "source": [
        "predictionsOutput(KNN_Classifier,test_final,'KNN_Classifier')"
      ],
      "execution_count": 0,
      "outputs": []
    },
    {
      "cell_type": "markdown",
      "metadata": {
        "id": "na6GpUVeMaVc",
        "colab_type": "text"
      },
      "source": [
        "## Model No. 4 : Logistic Regression\n",
        "\n",
        "\n"
      ]
    },
    {
      "cell_type": "code",
      "metadata": {
        "id": "GtcRps2QMUG_",
        "colab_type": "code",
        "colab": {}
      },
      "source": [
        "logisticmodel = LogisticRegression()"
      ],
      "execution_count": 0,
      "outputs": []
    },
    {
      "cell_type": "code",
      "metadata": {
        "id": "2KqljMlUJ2JG",
        "colab_type": "code",
        "colab": {}
      },
      "source": [
        "##### Model No. 1 : LOGISTIC REGRESSION\n",
        "\n",
        "#https://www.dezyre.com/recipes/optimize-hyper-parameters-of-logistic-regression-model-using-grid-search-in-python\n",
        "# Create an scaler object\n",
        "sc = StandardScaler()\n",
        "\n",
        "# Create a pca object\n",
        "pca = decomposition.PCA()\n",
        "\n",
        "logistic = linear_model.LogisticRegression()\n",
        "\n",
        "# Create a pipeline of three steps. First, standardize the data.\n",
        "# Second, tranform the data with PCA.\n",
        "# Third, train a logistic regression on the data.\n",
        "pipe = Pipeline(steps=[('sc', sc),('pca', pca),('logistic', logistic)])\n",
        "\n",
        "# Create Parameter Space\n",
        "# Create a list of a sequence of integers from 1 to 30 (the number of features in X + 1)\n",
        "n_components = list(range(1,X_final.shape[1]+1,1))\n"
      ],
      "execution_count": 0,
      "outputs": []
    },
    {
      "cell_type": "code",
      "metadata": {
        "id": "gTHC-bUsdz49",
        "colab_type": "code",
        "colab": {}
      },
      "source": [
        "# Create a list of values of the regularization parameter\n",
        "C = np.logspace(-4, 4, 50)\n",
        "\n",
        "# Create a list of options for the regularization penalty\n",
        "penalty = ['l1', 'l2']"
      ],
      "execution_count": 0,
      "outputs": []
    },
    {
      "cell_type": "code",
      "metadata": {
        "id": "Itmbvs2VeAU5",
        "colab_type": "code",
        "colab": {}
      },
      "source": [
        "# Create a dictionary of all the parameter options \n",
        "# Note has you can access the parameters of steps of a pipeline by using '__’\n",
        "parameters = dict(pca__n_components=n_components,logistic__C=C,logistic__penalty=penalty)\n",
        "\n",
        "# Create a grid search object\n",
        "clf = GridSearchCV(pipe, parameters)"
      ],
      "execution_count": 0,
      "outputs": []
    },
    {
      "cell_type": "code",
      "metadata": {
        "id": "9oMTsvMEeP8f",
        "colab_type": "code",
        "outputId": "ba9f8a34-f782-4e9a-f599-76277100db4e",
        "colab": {
          "base_uri": "https://localhost:8080/",
          "height": 177
        }
      },
      "source": [
        "# Fit the grid search\n",
        "clf.fit(X_final, y_final)\n",
        "# View The Best Parameters\n",
        "print('Best Penalty:', clf.best_estimator_.get_params()['logistic__penalty'])\n",
        "print('Best C:', clf.best_estimator_.get_params()['logistic__C'])\n",
        "print('Best Number Of Components:', clf.best_estimator_.get_params()['pca__n_components'])\n",
        "print(); print(clf.best_estimator_.get_params()['logistic'])"
      ],
      "execution_count": 107,
      "outputs": [
        {
          "output_type": "stream",
          "text": [
            "Best Penalty: l2\n",
            "Best C: 0.0001\n",
            "Best Number Of Components: 1\n",
            "\n",
            "LogisticRegression(C=0.0001, class_weight=None, dual=False, fit_intercept=True,\n",
            "                   intercept_scaling=1, l1_ratio=None, max_iter=100,\n",
            "                   multi_class='auto', n_jobs=None, penalty='l2',\n",
            "                   random_state=None, solver='lbfgs', tol=0.0001, verbose=0,\n",
            "                   warm_start=False)\n"
          ],
          "name": "stdout"
        }
      ]
    },
    {
      "cell_type": "markdown",
      "metadata": {
        "id": "ggH0JCI-nh6J",
        "colab_type": "text"
      },
      "source": [
        "Best Penalty: l2\n",
        "Best C: 0.0001\n",
        "Best Number Of Components: 1\n",
        "\n",
        "LogisticRegression(C=0.0001, class_weight=None, dual=False, fit_intercept=True,\n",
        "                   intercept_scaling=1, l1_ratio=None, max_iter=100,\n",
        "                   multi_class='auto', n_jobs=None, penalty='l2',\n",
        "                   random_state=None, solver='lbfgs', tol=0.0001, verbose=0,\n",
        "                   warm_start=False)"
      ]
    },
    {
      "cell_type": "code",
      "metadata": {
        "id": "Os7kcBp4jGGn",
        "colab_type": "code",
        "outputId": "12ece904-3c4e-4937-bdec-5af9392aff16",
        "colab": {
          "base_uri": "https://localhost:8080/",
          "height": 52
        }
      },
      "source": [
        "cross_validation(clf,X_final,y_final,'Logistic Regression')"
      ],
      "execution_count": 0,
      "outputs": [
        {
          "output_type": "stream",
          "text": [
            "ROC-AUC Value for Logistic Regression: 0.506 (0.038)\n"
          ],
          "name": "stdout"
        },
        {
          "output_type": "execute_result",
          "data": {
            "text/plain": [
              "0.5057835037932855"
            ]
          },
          "metadata": {
            "tags": []
          },
          "execution_count": 86
        }
      ]
    },
    {
      "cell_type": "markdown",
      "metadata": {
        "id": "Kojyz4K5iR6k",
        "colab_type": "text"
      },
      "source": [
        "It took a long time to cross validate entire data in logistic regression and the AUC score was 0.5.57835\n",
        "ROC-AUC Value for Logistic Regression: 0.506 (0.038)\n",
        "0.5057835037932855"
      ]
    },
    {
      "cell_type": "code",
      "metadata": {
        "id": "y2mRkINel8uH",
        "colab_type": "code",
        "colab": {}
      },
      "source": [
        "predictionsOutput(clf,test_final,'LogisticRegression')"
      ],
      "execution_count": 0,
      "outputs": []
    },
    {
      "cell_type": "markdown",
      "metadata": {
        "id": "ulEIj6cGYKPh",
        "colab_type": "text"
      },
      "source": [
        "## Model No. 4 Gradient Boosting Classifier"
      ]
    },
    {
      "cell_type": "code",
      "metadata": {
        "id": "nqRlzk8ghQtr",
        "colab_type": "code",
        "colab": {}
      },
      "source": [
        "from sklearn.ensemble import GradientBoostingClassifier"
      ],
      "execution_count": 0,
      "outputs": []
    },
    {
      "cell_type": "code",
      "metadata": {
        "id": "ap34zM5gYUyi",
        "colab_type": "code",
        "colab": {}
      },
      "source": [
        "gradient_boost=GradientBoostingClassifier(n_estimators=400,learning_rate=0.1,random_state=100,max_features=4 )"
      ],
      "execution_count": 0,
      "outputs": []
    },
    {
      "cell_type": "code",
      "metadata": {
        "id": "HWLkd39Bd_nH",
        "colab_type": "code",
        "colab": {
          "base_uri": "https://localhost:8080/",
          "height": 52
        },
        "outputId": "19d80b5e-7ee5-4eae-9e22-cd4de627233d"
      },
      "source": [
        "cross_validation(gradient_boost,X_final,y_final,'gradient_boost')"
      ],
      "execution_count": 111,
      "outputs": [
        {
          "output_type": "stream",
          "text": [
            "ROC-AUC Value for gradient_boost: 0.866 (0.020)\n"
          ],
          "name": "stdout"
        },
        {
          "output_type": "execute_result",
          "data": {
            "text/plain": [
              "0.8657215325717396"
            ]
          },
          "metadata": {
            "tags": []
          },
          "execution_count": 111
        }
      ]
    },
    {
      "cell_type": "code",
      "metadata": {
        "id": "OusPzy0ycAsC",
        "colab_type": "code",
        "colab": {
          "base_uri": "https://localhost:8080/",
          "height": 195
        },
        "outputId": "fc2599b4-797d-4b8e-db7c-95bebcd1f77f"
      },
      "source": [
        "gradient_boost.fit(X_final,y_final)"
      ],
      "execution_count": 113,
      "outputs": [
        {
          "output_type": "execute_result",
          "data": {
            "text/plain": [
              "GradientBoostingClassifier(ccp_alpha=0.0, criterion='friedman_mse', init=None,\n",
              "                           learning_rate=0.1, loss='deviance', max_depth=3,\n",
              "                           max_features=4, max_leaf_nodes=None,\n",
              "                           min_impurity_decrease=0.0, min_impurity_split=None,\n",
              "                           min_samples_leaf=1, min_samples_split=2,\n",
              "                           min_weight_fraction_leaf=0.0, n_estimators=400,\n",
              "                           n_iter_no_change=None, presort='deprecated',\n",
              "                           random_state=100, subsample=1.0, tol=0.0001,\n",
              "                           validation_fraction=0.1, verbose=0,\n",
              "                           warm_start=False)"
            ]
          },
          "metadata": {
            "tags": []
          },
          "execution_count": 113
        }
      ]
    },
    {
      "cell_type": "code",
      "metadata": {
        "id": "GXlWXlPOc9_f",
        "colab_type": "code",
        "colab": {}
      },
      "source": [
        "predictionsOutput(gradient_boost,test_final,'Gradient_Boost')"
      ],
      "execution_count": 0,
      "outputs": []
    },
    {
      "cell_type": "markdown",
      "metadata": {
        "id": "3ePI7gbYdUaR",
        "colab_type": "text"
      },
      "source": [
        "## Model No. 5 : Decision Trees"
      ]
    },
    {
      "cell_type": "code",
      "metadata": {
        "id": "472N5GF9dPIB",
        "colab_type": "code",
        "colab": {}
      },
      "source": [
        "## Model No. 5 Decision Trees\n",
        "\n",
        "from sklearn import tree\n",
        "from sklearn.tree import DecisionTreeClassifier"
      ],
      "execution_count": 0,
      "outputs": []
    },
    {
      "cell_type": "code",
      "metadata": {
        "id": "hV63eZVwdaWc",
        "colab_type": "code",
        "colab": {
          "base_uri": "https://localhost:8080/",
          "height": 35
        },
        "outputId": "f95f4143-c46a-41f7-fe3c-90b925c76291"
      },
      "source": [
        "tree_depth = []\n",
        "for d in range(2,9):\n",
        "    decision_tree = tree.DecisionTreeClassifier(max_depth=d,criterion='gini',class_weight=\"balanced\",min_weight_fraction_leaf=0.01)\n",
        "    # Perform 7-fold cross validation \n",
        "    val_scores = cross_val_score(estimator=decision_tree, X=X_final, y=y_final, cv=7, n_jobs=4)\n",
        "    tree_depth.append((d,val_scores.mean()))\n",
        "print(tree_depth)"
      ],
      "execution_count": 119,
      "outputs": [
        {
          "output_type": "stream",
          "text": [
            "[(2, 0.6813157865913099), (3, 0.6875420061451673), (4, 0.6992046801743512), (5, 0.6901681497580686), (6, 0.7074411705338661), (7, 0.7183083682656515), (8, 0.7280703538712937)]\n"
          ],
          "name": "stdout"
        }
      ]
    },
    {
      "cell_type": "code",
      "metadata": {
        "id": "EFJIFJEkfAfh",
        "colab_type": "code",
        "colab": {}
      },
      "source": [
        "decision_tree_classifier = tree.DecisionTreeClassifier(max_depth=8,criterion='gini',class_weight=\"balanced\",min_weight_fraction_leaf=0.01)"
      ],
      "execution_count": 0,
      "outputs": []
    },
    {
      "cell_type": "code",
      "metadata": {
        "id": "KDYaiJ5cf0AK",
        "colab_type": "code",
        "colab": {
          "base_uri": "https://localhost:8080/",
          "height": 124
        },
        "outputId": "69797ad4-d0bc-4a86-cb48-3809f79a6cb3"
      },
      "source": [
        "decision_tree_classifier.fit(X_final,y_final)"
      ],
      "execution_count": 123,
      "outputs": [
        {
          "output_type": "execute_result",
          "data": {
            "text/plain": [
              "DecisionTreeClassifier(ccp_alpha=0.0, class_weight='balanced', criterion='gini',\n",
              "                       max_depth=8, max_features=None, max_leaf_nodes=None,\n",
              "                       min_impurity_decrease=0.0, min_impurity_split=None,\n",
              "                       min_samples_leaf=1, min_samples_split=2,\n",
              "                       min_weight_fraction_leaf=0.01, presort='deprecated',\n",
              "                       random_state=None, splitter='best')"
            ]
          },
          "metadata": {
            "tags": []
          },
          "execution_count": 123
        }
      ]
    },
    {
      "cell_type": "code",
      "metadata": {
        "id": "5TydNnfLfh-V",
        "colab_type": "code",
        "colab": {
          "base_uri": "https://localhost:8080/",
          "height": 52
        },
        "outputId": "6922ccfa-1c73-49cf-fdc5-a339f3e769a0"
      },
      "source": [
        "cross_validation(decision_tree_classifier,X_final,y_final,'Decision_Tree')"
      ],
      "execution_count": 121,
      "outputs": [
        {
          "output_type": "stream",
          "text": [
            "ROC-AUC Value for Decision_Tree: 0.795 (0.017)\n"
          ],
          "name": "stdout"
        },
        {
          "output_type": "execute_result",
          "data": {
            "text/plain": [
              "0.7949129341434995"
            ]
          },
          "metadata": {
            "tags": []
          },
          "execution_count": 121
        }
      ]
    },
    {
      "cell_type": "code",
      "metadata": {
        "id": "QEhNKJV3fZ0K",
        "colab_type": "code",
        "colab": {}
      },
      "source": [
        "predictionsOutput(decision_tree_classifier,test_final,'Decision_Tree')"
      ],
      "execution_count": 0,
      "outputs": []
    },
    {
      "cell_type": "markdown",
      "metadata": {
        "id": "4olNkDtrf7pQ",
        "colab_type": "text"
      },
      "source": [
        "## Model No. 6 : Random Forest Classifier"
      ]
    },
    {
      "cell_type": "code",
      "metadata": {
        "id": "RljZjsa0f8us",
        "colab_type": "code",
        "colab": {}
      },
      "source": [
        "random_forest_classifier = RandomForestClassifier(n_estimators=200,max_depth=8,min_samples_split=10,class_weight=\"balanced\",random_state=100) #manually set the hyper parans"
      ],
      "execution_count": 0,
      "outputs": []
    },
    {
      "cell_type": "code",
      "metadata": {
        "id": "YMDzMbRof9p7",
        "colab_type": "code",
        "colab": {
          "base_uri": "https://localhost:8080/",
          "height": 52
        },
        "outputId": "e6a56d24-b676-4320-a4e6-dae72ff20e15"
      },
      "source": [
        "cross_validation(random_forest_classifier,X_final,y_final,'Random_Forest')"
      ],
      "execution_count": 126,
      "outputs": [
        {
          "output_type": "stream",
          "text": [
            "ROC-AUC Value for Random_Forest: 0.838 (0.019)\n"
          ],
          "name": "stdout"
        },
        {
          "output_type": "execute_result",
          "data": {
            "text/plain": [
              "0.837695534741191"
            ]
          },
          "metadata": {
            "tags": []
          },
          "execution_count": 126
        }
      ]
    },
    {
      "cell_type": "code",
      "metadata": {
        "id": "Itbqj5rwnnFc",
        "colab_type": "code",
        "colab": {
          "base_uri": "https://localhost:8080/",
          "height": 159
        },
        "outputId": "aabac8af-8261-474a-9765-a223133c90d2"
      },
      "source": [
        "random_forest_classifier.fit(X_final,y_final)"
      ],
      "execution_count": 129,
      "outputs": [
        {
          "output_type": "execute_result",
          "data": {
            "text/plain": [
              "RandomForestClassifier(bootstrap=True, ccp_alpha=0.0, class_weight='balanced',\n",
              "                       criterion='gini', max_depth=8, max_features='auto',\n",
              "                       max_leaf_nodes=None, max_samples=None,\n",
              "                       min_impurity_decrease=0.0, min_impurity_split=None,\n",
              "                       min_samples_leaf=1, min_samples_split=10,\n",
              "                       min_weight_fraction_leaf=0.0, n_estimators=200,\n",
              "                       n_jobs=None, oob_score=False, random_state=100,\n",
              "                       verbose=0, warm_start=False)"
            ]
          },
          "metadata": {
            "tags": []
          },
          "execution_count": 129
        }
      ]
    },
    {
      "cell_type": "code",
      "metadata": {
        "id": "xga2UFpQgynZ",
        "colab_type": "code",
        "colab": {}
      },
      "source": [
        "predictionsOutput(random_forest_classifier,test_final,'Random_Classifier')"
      ],
      "execution_count": 0,
      "outputs": []
    },
    {
      "cell_type": "code",
      "metadata": {
        "id": "Q6bZc0WGoBcq",
        "colab_type": "code",
        "colab": {}
      },
      "source": [
        "## Hyperparameter Tuning of Random Forest Classifier:\n",
        "\n",
        "ITERATIONS = 20 \n",
        "TRAINING_SIZE = 100000 \n",
        "TEST_SIZE = 25000\n",
        "# Classifier\n",
        "bayes_cv_tuner = BayesSearchCV(\n",
        "    estimator = RandomForestClassifier(\n",
        "        n_jobs = -1\n",
        "    ),\n",
        "    search_spaces = {\n",
        "    'min_samples_split': [3, 5, 8, 10, 20], \n",
        "    'n_estimators' : [100, 500],\n",
        "    'max_depth': [3, 5, 8, 10, 15],\n",
        "    'max_features': [3, 5, 8]\n",
        "},    \n",
        "    scoring = 'roc_auc',\n",
        "    cv = StratifiedKFold(\n",
        "        n_splits=3,\n",
        "        shuffle=True,\n",
        "        random_state=42\n",
        "    ),\n",
        "    n_jobs = 3,\n",
        "    n_iter = ITERATIONS,   \n",
        "    verbose = 0,\n",
        "    refit = True,\n",
        "    random_state = 42\n",
        ")"
      ],
      "execution_count": 0,
      "outputs": []
    },
    {
      "cell_type": "code",
      "metadata": {
        "id": "FX2Nuia_o1Ao",
        "colab_type": "code",
        "colab": {}
      },
      "source": [
        "def Print_Model_Results(optim_result):\n",
        "    \"\"\"Status callback durring bayesian hyperparameter search\"\"\"\n",
        "    \n",
        "    # Get all the models tested so far in DataFrame format\n",
        "    all_models = pd.DataFrame(bayes_cv_tuner.cv_results_)    \n",
        "    \n",
        "    # Get current parameters and the best parameters    \n",
        "    best_params = pd.Series(bayes_cv_tuner.best_params_)\n",
        "    print('Model #{}\\nBest ROC-AUC: {}\\nBest params: {}\\n'.format(\n",
        "        len(all_models),\n",
        "        np.round(bayes_cv_tuner.best_score_, 4),\n",
        "        bayes_cv_tuner.best_params_\n",
        "    ))\n",
        "    \n",
        "    # Save all model results\n",
        "    clf_name = bayes_cv_tuner.estimator.__class__.__name__\n",
        "    all_models.to_csv(clf_name+\"_cv_results.csv\")"
      ],
      "execution_count": 0,
      "outputs": []
    },
    {
      "cell_type": "code",
      "metadata": {
        "id": "uPfySDKko-Rg",
        "colab_type": "code",
        "colab": {
          "base_uri": "https://localhost:8080/",
          "height": 1000
        },
        "outputId": "20b54fcd-05c0-4a56-c418-22143624b507"
      },
      "source": [
        "result = bayes_cv_tuner.fit(X_final, y_final, callback=Print_Model_Results)"
      ],
      "execution_count": 133,
      "outputs": [
        {
          "output_type": "stream",
          "text": [
            "Model #1\n",
            "Best ROC-AUC: 0.8225\n",
            "Best params: OrderedDict([('max_depth', 8), ('max_features', 8), ('min_samples_split', 20), ('n_estimators', 226)])\n",
            "\n",
            "Model #2\n",
            "Best ROC-AUC: 0.8293\n",
            "Best params: OrderedDict([('max_depth', 15), ('max_features', 8), ('min_samples_split', 5), ('n_estimators', 480)])\n",
            "\n",
            "Model #3\n",
            "Best ROC-AUC: 0.8293\n",
            "Best params: OrderedDict([('max_depth', 15), ('max_features', 8), ('min_samples_split', 5), ('n_estimators', 480)])\n",
            "\n",
            "Model #4\n",
            "Best ROC-AUC: 0.8511\n",
            "Best params: OrderedDict([('max_depth', 15), ('max_features', 3), ('min_samples_split', 8), ('n_estimators', 421)])\n",
            "\n",
            "Model #5\n",
            "Best ROC-AUC: 0.8511\n",
            "Best params: OrderedDict([('max_depth', 15), ('max_features', 3), ('min_samples_split', 8), ('n_estimators', 421)])\n",
            "\n",
            "Model #6\n",
            "Best ROC-AUC: 0.8511\n",
            "Best params: OrderedDict([('max_depth', 15), ('max_features', 3), ('min_samples_split', 8), ('n_estimators', 421)])\n",
            "\n",
            "Model #7\n",
            "Best ROC-AUC: 0.8511\n",
            "Best params: OrderedDict([('max_depth', 15), ('max_features', 3), ('min_samples_split', 8), ('n_estimators', 421)])\n",
            "\n",
            "Model #8\n",
            "Best ROC-AUC: 0.8511\n",
            "Best params: OrderedDict([('max_depth', 15), ('max_features', 3), ('min_samples_split', 8), ('n_estimators', 421)])\n",
            "\n",
            "Model #9\n",
            "Best ROC-AUC: 0.8511\n",
            "Best params: OrderedDict([('max_depth', 15), ('max_features', 3), ('min_samples_split', 8), ('n_estimators', 421)])\n",
            "\n",
            "Model #10\n",
            "Best ROC-AUC: 0.8511\n",
            "Best params: OrderedDict([('max_depth', 15), ('max_features', 3), ('min_samples_split', 8), ('n_estimators', 421)])\n",
            "\n",
            "Model #11\n",
            "Best ROC-AUC: 0.8564\n",
            "Best params: OrderedDict([('max_depth', 15), ('max_features', 3), ('min_samples_split', 5), ('n_estimators', 500)])\n",
            "\n",
            "Model #12\n",
            "Best ROC-AUC: 0.8564\n",
            "Best params: OrderedDict([('max_depth', 15), ('max_features', 3), ('min_samples_split', 5), ('n_estimators', 500)])\n",
            "\n",
            "Model #13\n",
            "Best ROC-AUC: 0.8564\n",
            "Best params: OrderedDict([('max_depth', 15), ('max_features', 3), ('min_samples_split', 5), ('n_estimators', 500)])\n",
            "\n",
            "Model #14\n",
            "Best ROC-AUC: 0.8564\n",
            "Best params: OrderedDict([('max_depth', 15), ('max_features', 3), ('min_samples_split', 5), ('n_estimators', 500)])\n",
            "\n",
            "Model #15\n",
            "Best ROC-AUC: 0.8564\n",
            "Best params: OrderedDict([('max_depth', 15), ('max_features', 3), ('min_samples_split', 5), ('n_estimators', 500)])\n",
            "\n",
            "Model #16\n",
            "Best ROC-AUC: 0.8564\n",
            "Best params: OrderedDict([('max_depth', 15), ('max_features', 3), ('min_samples_split', 5), ('n_estimators', 500)])\n",
            "\n",
            "Model #17\n",
            "Best ROC-AUC: 0.8564\n",
            "Best params: OrderedDict([('max_depth', 15), ('max_features', 3), ('min_samples_split', 5), ('n_estimators', 500)])\n",
            "\n",
            "Model #18\n",
            "Best ROC-AUC: 0.8564\n",
            "Best params: OrderedDict([('max_depth', 15), ('max_features', 3), ('min_samples_split', 5), ('n_estimators', 500)])\n",
            "\n",
            "Model #19\n",
            "Best ROC-AUC: 0.8564\n",
            "Best params: OrderedDict([('max_depth', 15), ('max_features', 3), ('min_samples_split', 5), ('n_estimators', 500)])\n",
            "\n",
            "Model #20\n",
            "Best ROC-AUC: 0.8564\n",
            "Best params: OrderedDict([('max_depth', 15), ('max_features', 3), ('min_samples_split', 5), ('n_estimators', 500)])\n",
            "\n"
          ],
          "name": "stdout"
        }
      ]
    },
    {
      "cell_type": "code",
      "metadata": {
        "id": "eVmrrDIcqq4B",
        "colab_type": "code",
        "colab": {}
      },
      "source": [
        "rfc_tuned = RandomForestClassifier(n_estimators=500,max_depth=15,min_samples_split=5,max_features=3) #manually set the hyper parans"
      ],
      "execution_count": 0,
      "outputs": []
    },
    {
      "cell_type": "code",
      "metadata": {
        "id": "rD3md7zHq8R2",
        "colab_type": "code",
        "colab": {
          "base_uri": "https://localhost:8080/",
          "height": 52
        },
        "outputId": "b9f90d94-e023-49f8-a0fc-57f992a37535"
      },
      "source": [
        "cross_validation(rfc_tuned,X_final,y_final,'Random_Forest_Tuned')"
      ],
      "execution_count": 135,
      "outputs": [
        {
          "output_type": "stream",
          "text": [
            "ROC-AUC Value for Random_Forest_Tuned: 0.873 (0.019)\n"
          ],
          "name": "stdout"
        },
        {
          "output_type": "execute_result",
          "data": {
            "text/plain": [
              "0.8732638912670329"
            ]
          },
          "metadata": {
            "tags": []
          },
          "execution_count": 135
        }
      ]
    },
    {
      "cell_type": "code",
      "metadata": {
        "id": "O_i47RQBrGxR",
        "colab_type": "code",
        "colab": {}
      },
      "source": [
        "random_forest_classifier.fit(X_final,y_final)\n",
        "predictionsOutput(random_forest_classifier,test_final,'Random_Classifier_Tuned')"
      ],
      "execution_count": 0,
      "outputs": []
    },
    {
      "cell_type": "markdown",
      "metadata": {
        "id": "25KJuOYssMoX",
        "colab_type": "text"
      },
      "source": [
        "## Model No. 7 Light GBM Classifier"
      ]
    },
    {
      "cell_type": "code",
      "metadata": {
        "id": "8JyR3jsprO-b",
        "colab_type": "code",
        "colab": {}
      },
      "source": [
        "from lightgbm import LGBMClassifier"
      ],
      "execution_count": 0,
      "outputs": []
    },
    {
      "cell_type": "code",
      "metadata": {
        "id": "MI0K-qwFscph",
        "colab_type": "code",
        "colab": {}
      },
      "source": [
        "# SETTINGS - CHANGE THESE TO GET SOMETHING MEANINGFUL\n",
        "ITERATIONS = 20\n",
        "TRAINING_SIZE = 1000000 \n",
        "TEST_SIZE = 250000\n",
        "\n",
        "\n",
        "# Classifier\n",
        "bayes_cv_tuner = BayesSearchCV(\n",
        "    estimator = lgb.LGBMClassifier(\n",
        "        n_jobs = 1,\n",
        "        objective = 'binary',\n",
        "        eval_metric = 'auc',\n",
        "        silent=1,\n",
        "        tree_method='approx'\n",
        "    ),\n",
        "    search_spaces = {\n",
        "        'learning_rate': (0.01, 1.0, 'log-uniform'),\n",
        "        'min_child_weight': (1, 9),\n",
        "        'max_depth': (3, 20),\n",
        "        'subsample': (0.01, 1.0, 'uniform'),\n",
        "        'colsample_bytree': (0.01, 1.0, 'uniform'),\n",
        "        'min_child_weight': (1, 3),\n",
        "        'n_estimators': (150, 550)\n",
        "\n",
        "    },    \n",
        "    scoring = 'roc_auc',\n",
        "    cv = StratifiedKFold(\n",
        "        n_splits=7,\n",
        "        shuffle=True,\n",
        "        random_state=42\n",
        "    ),\n",
        "    n_jobs = 3,\n",
        "    n_iter = ITERATIONS,   \n",
        "    verbose = 0,\n",
        "    refit = True,\n",
        "    random_state = 42\n",
        ")"
      ],
      "execution_count": 0,
      "outputs": []
    },
    {
      "cell_type": "code",
      "metadata": {
        "id": "gff5gyeas1qk",
        "colab_type": "code",
        "colab": {}
      },
      "source": [
        "def Print_LGBModel_Results(optim_result):\n",
        "    \"\"\"Status callback durring bayesian hyperparameter search\"\"\"\n",
        "    \n",
        "    # Get all the models tested so far in DataFrame format\n",
        "    all_models = pd.DataFrame(bayes_cv_tuner.cv_results_)    \n",
        "    \n",
        "    # Get current parameters and the best parameters    \n",
        "    best_params = pd.Series(bayes_cv_tuner.best_params_)\n",
        "    print('Model #{}\\nBest ROC-AUC: {}\\nBest params: {}\\n'.format(\n",
        "        len(all_models),\n",
        "        np.round(bayes_cv_tuner.best_score_, 4),\n",
        "        bayes_cv_tuner.best_params_\n",
        "    ))\n",
        "    \n",
        "    # Save all model results\n",
        "    clf_name = bayes_cv_tuner.estimator.__class__.__name__\n",
        "    all_models.to_csv(clf_name+\"_cv_results.csv\")"
      ],
      "execution_count": 0,
      "outputs": []
    },
    {
      "cell_type": "code",
      "metadata": {
        "id": "V48d1Zq9stUN",
        "colab_type": "code",
        "colab": {
          "base_uri": "https://localhost:8080/",
          "height": 1000
        },
        "outputId": "f9b102d6-3d4d-4d8f-d2cf-961cb4d319fc"
      },
      "source": [
        "result_lgb = bayes_cv_tuner.fit(X_final, y_final, callback=Print_LGBModel_Results)"
      ],
      "execution_count": 144,
      "outputs": [
        {
          "output_type": "stream",
          "text": [
            "Model #1\n",
            "Best ROC-AUC: 0.8701\n",
            "Best params: OrderedDict([('colsample_bytree', 0.4160029192647807), ('learning_rate', 0.28539836866041823), ('max_depth', 19), ('min_child_weight', 2), ('n_estimators', 418), ('subsample', 0.4199774461606831)])\n",
            "\n",
            "Model #2\n",
            "Best ROC-AUC: 0.8701\n",
            "Best params: OrderedDict([('colsample_bytree', 0.4160029192647807), ('learning_rate', 0.28539836866041823), ('max_depth', 19), ('min_child_weight', 2), ('n_estimators', 418), ('subsample', 0.4199774461606831)])\n",
            "\n",
            "Model #3\n",
            "Best ROC-AUC: 0.8701\n",
            "Best params: OrderedDict([('colsample_bytree', 0.4160029192647807), ('learning_rate', 0.28539836866041823), ('max_depth', 19), ('min_child_weight', 2), ('n_estimators', 418), ('subsample', 0.4199774461606831)])\n",
            "\n",
            "Model #4\n",
            "Best ROC-AUC: 0.8701\n",
            "Best params: OrderedDict([('colsample_bytree', 0.4160029192647807), ('learning_rate', 0.28539836866041823), ('max_depth', 19), ('min_child_weight', 2), ('n_estimators', 418), ('subsample', 0.4199774461606831)])\n",
            "\n",
            "Model #5\n",
            "Best ROC-AUC: 0.876\n",
            "Best params: OrderedDict([('colsample_bytree', 0.8015579071911014), ('learning_rate', 0.07517239253342656), ('max_depth', 12), ('min_child_weight', 2), ('n_estimators', 512), ('subsample', 0.7198608396482385)])\n",
            "\n",
            "Model #6\n",
            "Best ROC-AUC: 0.876\n",
            "Best params: OrderedDict([('colsample_bytree', 0.8015579071911014), ('learning_rate', 0.07517239253342656), ('max_depth', 12), ('min_child_weight', 2), ('n_estimators', 512), ('subsample', 0.7198608396482385)])\n",
            "\n",
            "Model #7\n",
            "Best ROC-AUC: 0.876\n",
            "Best params: OrderedDict([('colsample_bytree', 0.8015579071911014), ('learning_rate', 0.07517239253342656), ('max_depth', 12), ('min_child_weight', 2), ('n_estimators', 512), ('subsample', 0.7198608396482385)])\n",
            "\n",
            "Model #8\n",
            "Best ROC-AUC: 0.876\n",
            "Best params: OrderedDict([('colsample_bytree', 0.8015579071911014), ('learning_rate', 0.07517239253342656), ('max_depth', 12), ('min_child_weight', 2), ('n_estimators', 512), ('subsample', 0.7198608396482385)])\n",
            "\n",
            "Model #9\n",
            "Best ROC-AUC: 0.876\n",
            "Best params: OrderedDict([('colsample_bytree', 0.8015579071911014), ('learning_rate', 0.07517239253342656), ('max_depth', 12), ('min_child_weight', 2), ('n_estimators', 512), ('subsample', 0.7198608396482385)])\n",
            "\n",
            "Model #10\n",
            "Best ROC-AUC: 0.876\n",
            "Best params: OrderedDict([('colsample_bytree', 0.8015579071911014), ('learning_rate', 0.07517239253342656), ('max_depth', 12), ('min_child_weight', 2), ('n_estimators', 512), ('subsample', 0.7198608396482385)])\n",
            "\n",
            "Model #11\n",
            "Best ROC-AUC: 0.876\n",
            "Best params: OrderedDict([('colsample_bytree', 0.8015579071911014), ('learning_rate', 0.07517239253342656), ('max_depth', 12), ('min_child_weight', 2), ('n_estimators', 512), ('subsample', 0.7198608396482385)])\n",
            "\n",
            "Model #12\n",
            "Best ROC-AUC: 0.876\n",
            "Best params: OrderedDict([('colsample_bytree', 0.8015579071911014), ('learning_rate', 0.07517239253342656), ('max_depth', 12), ('min_child_weight', 2), ('n_estimators', 512), ('subsample', 0.7198608396482385)])\n",
            "\n",
            "Model #13\n",
            "Best ROC-AUC: 0.876\n",
            "Best params: OrderedDict([('colsample_bytree', 0.8015579071911014), ('learning_rate', 0.07517239253342656), ('max_depth', 12), ('min_child_weight', 2), ('n_estimators', 512), ('subsample', 0.7198608396482385)])\n",
            "\n",
            "Model #14\n",
            "Best ROC-AUC: 0.876\n",
            "Best params: OrderedDict([('colsample_bytree', 0.8015579071911014), ('learning_rate', 0.07517239253342656), ('max_depth', 12), ('min_child_weight', 2), ('n_estimators', 512), ('subsample', 0.7198608396482385)])\n",
            "\n",
            "Model #15\n",
            "Best ROC-AUC: 0.876\n",
            "Best params: OrderedDict([('colsample_bytree', 0.8015579071911014), ('learning_rate', 0.07517239253342656), ('max_depth', 12), ('min_child_weight', 2), ('n_estimators', 512), ('subsample', 0.7198608396482385)])\n",
            "\n",
            "Model #16\n",
            "Best ROC-AUC: 0.876\n",
            "Best params: OrderedDict([('colsample_bytree', 0.8015579071911014), ('learning_rate', 0.07517239253342656), ('max_depth', 12), ('min_child_weight', 2), ('n_estimators', 512), ('subsample', 0.7198608396482385)])\n",
            "\n",
            "Model #17\n",
            "Best ROC-AUC: 0.876\n",
            "Best params: OrderedDict([('colsample_bytree', 0.8015579071911014), ('learning_rate', 0.07517239253342656), ('max_depth', 12), ('min_child_weight', 2), ('n_estimators', 512), ('subsample', 0.7198608396482385)])\n",
            "\n",
            "Model #18\n",
            "Best ROC-AUC: 0.876\n",
            "Best params: OrderedDict([('colsample_bytree', 0.8015579071911014), ('learning_rate', 0.07517239253342656), ('max_depth', 12), ('min_child_weight', 2), ('n_estimators', 512), ('subsample', 0.7198608396482385)])\n",
            "\n",
            "Model #19\n",
            "Best ROC-AUC: 0.8775\n",
            "Best params: OrderedDict([('colsample_bytree', 0.7184606351164922), ('learning_rate', 0.1118651457006259), ('max_depth', 20), ('min_child_weight', 3), ('n_estimators', 550), ('subsample', 0.01)])\n",
            "\n",
            "Model #20\n",
            "Best ROC-AUC: 0.8775\n",
            "Best params: OrderedDict([('colsample_bytree', 0.7184606351164922), ('learning_rate', 0.1118651457006259), ('max_depth', 20), ('min_child_weight', 3), ('n_estimators', 550), ('subsample', 0.01)])\n",
            "\n"
          ],
          "name": "stdout"
        }
      ]
    },
    {
      "cell_type": "code",
      "metadata": {
        "id": "GGf1nSDFx17e",
        "colab_type": "code",
        "colab": {}
      },
      "source": [
        "lgb_bayestuned = LGBMClassifier(colsample_bytree = 0.7184606351164922,learning_rate = 0.1118651457006259,max_depth=20,min_child_weight=3,n_estimators=550,subsample=0.01)"
      ],
      "execution_count": 0,
      "outputs": []
    },
    {
      "cell_type": "code",
      "metadata": {
        "id": "PsV7RkEtyc7_",
        "colab_type": "code",
        "colab": {
          "base_uri": "https://localhost:8080/",
          "height": 52
        },
        "outputId": "170eb67a-7876-441b-f9c3-a88dbc89157e"
      },
      "source": [
        "cross_validation(lgb_bayestuned,X_final,y_final,'LGB_Tuned')"
      ],
      "execution_count": 146,
      "outputs": [
        {
          "output_type": "stream",
          "text": [
            "ROC-AUC Value for LGB_Tuned: 0.880 (0.014)\n"
          ],
          "name": "stdout"
        },
        {
          "output_type": "execute_result",
          "data": {
            "text/plain": [
              "0.8803523342826285"
            ]
          },
          "metadata": {
            "tags": []
          },
          "execution_count": 146
        }
      ]
    },
    {
      "cell_type": "markdown",
      "metadata": {
        "id": "bCFPBGjtyr8r",
        "colab_type": "text"
      },
      "source": [
        "Parameter Range: \n",
        "\n",
        "    search_spaces = {\n",
        "        'learning_rate': (0.01, 1.0, 'log-uniform'),\n",
        "        'min_child_weight': (1, 9),\n",
        "        'max_depth': (3, 20),\n",
        "        'subsample': (0.01, 1.0, 'uniform'),\n",
        "        'colsample_bytree': (0.01, 1.0, 'uniform'),\n",
        "        'min_child_weight': (1, 3),\n",
        "        'n_estimators': (150, 550)\n",
        "\n",
        "    },   \n",
        "\n",
        "Params:  LGBMClassifier(colsample_bytree = 0.7184606351164922,learning_rate = 0.1118651457006259,max_depth=20,min_child_weight=3,n_estimators=550,subsample=0.01)\n",
        "\n",
        "ROC-AUC Value for LGB_Tuned: 0.880 (0.014)\n",
        "0.8803523342826285"
      ]
    },
    {
      "cell_type": "markdown",
      "metadata": {
        "id": "TG2cUxb6-vLB",
        "colab_type": "text"
      },
      "source": [
        "## Model No. 8 XGB Classifier"
      ]
    },
    {
      "cell_type": "code",
      "metadata": {
        "id": "XxV34FEVPgwo",
        "colab_type": "code",
        "colab": {}
      },
      "source": [
        "### BayesCV\n",
        "\n",
        "#https://www.kaggle.com/nanomathias/bayesian-optimization-of-xgboost-lb-0-9769\n",
        "\n",
        "ITERATIONS = 50\n",
        "TRAINING_SIZE = 1000000 \n",
        "TEST_SIZE = 250000\n",
        "\n",
        "\n",
        "# Classifier\n",
        "bayes_cv_tuner = BayesSearchCV(\n",
        "    estimator = xgb.XGBClassifier(\n",
        "        n_jobs = 1,\n",
        "        objective = 'binary:logistic',\n",
        "        eval_metric = 'auc',\n",
        "        silent=1,\n",
        "        tree_method='approx'\n",
        "    ),\n",
        "      search_spaces = {\n",
        "\n",
        "        # set final : AUC 0.90609 final value 0.9158\n",
        "        'min_samples_split': [3, 5, 8, 10, 20], \n",
        "        'n_estimators' : (100, 600),\n",
        "        'max_depth': (3,20),\n",
        "        'max_features': [3, 5, 8],\n",
        "        'learning_rate': (0.01, 1.0, 'log-uniform'),\n",
        "        'colsample_bytree': (0.1, 1.0, 'uniform'),\n",
        "        'colsample_bylevel': (0.4, 1.0, 'uniform')\n",
        "\n",
        "\n",
        "    },     \n",
        "    scoring = 'roc_auc',\n",
        "    cv = StratifiedKFold(\n",
        "        n_splits=5,\n",
        "        shuffle=True,\n",
        "        random_state=42\n",
        "    ),\n",
        "    n_jobs = 3,\n",
        "    n_iter = ITERATIONS,   \n",
        "    verbose = 0,\n",
        "    refit = True,\n",
        "    random_state = 42\n",
        ")"
      ],
      "execution_count": 0,
      "outputs": []
    },
    {
      "cell_type": "markdown",
      "metadata": {
        "id": "z1jtS85P-8to",
        "colab_type": "text"
      },
      "source": [
        "Below is the list of parameter range that I tried for tuning the XGB"
      ]
    },
    {
      "cell_type": "code",
      "metadata": {
        "id": "UEMMK3eC18_T",
        "colab_type": "code",
        "colab": {}
      },
      "source": [
        "    #      Set 3: auc: 0.90609\n",
        "    #     'min_samples_split': [3, 5, 8, 10, 20], \n",
        "    #     'n_estimators' : (100, 600),\n",
        "    #     'max_depth': (3,20),\n",
        "    #     'max_features': [3, 5, 8],\n",
        "    #     'learning_rate': (0.01, 1.0, 'log-uniform'),\n",
        "    #     'colsample_bytree': (0.1, 1.0, 'uniform'),\n",
        "    #     'colsample_bylevel': (0.4, 1.0, 'uniform')\n",
        "\n",
        "      # set 1 :  intial AUC 0.90564\n",
        "        # 'min_samples_split': [3, 5, 8, 10, 20], \n",
        "        # 'n_estimators' : (100, 600),\n",
        "        # 'max_depth': (3,20),\n",
        "        # 'max_features': [3, 5, 8],\n",
        "        # 'learning_rate': (0.01, 1.0, 'log-uniform'),\n",
        "        # 'colsample_bytree': (0.1, 1.0, 'uniform'),\n",
        "        # 'colsample_bylevel': (0.4, 1.0, 'uniform'),\n",
        "\n",
        "        # ##\n",
        "        # 'scale_pos_weight':(1,120)\n",
        "\n",
        "        # 'min_samples_split': [3, 5, 8, 10, 20], \n",
        "        # 'n_estimators' : (100, 500),\n",
        "        # 'max_depth': [3, 5, 8, 10, 15,20],\n",
        "        # 'max_features': [3, 5, 8,10],\n",
        "        # 'learning_rate': (0.01, 1.0, 'log-uniform'),\n",
        "        # 'colsample_bytree': (0.01, 1.0, 'uniform'),\n",
        "        # 'colsample_bylevel': (0.01, 1.0, 'uniform'),\n",
        "        # 'max_delta_step':(1,10), #new param\n",
        "        # 'gamma':(0.5,8),\n",
        "        # 'scale_pos_weight': (1, 100, 'log-uniform') #new param\n",
        "\n",
        "        #set 2 \n",
        "        #  'n_estimators' : (200, 1000),\n",
        "        # 'max_depth': [3, 5, 8, 10, 15,20],\n",
        "        # 'min_child_weight':(1,10),\n",
        "        # 'learning_rate': (0.01, 1.0, 'log-uniform'),\n",
        "        # 'colsample_bytree': (0.01, 1.0, 'uniform'),\n",
        "        # 'colsample_bylevel': (0.2, 1.0, 'uniform'),\n",
        "        #  'gamma': [0.5, 1, 1.5, 2, 5,8,10],\n",
        "        #  'max_delta_step':(1,10)\n",
        "\n",
        "\n",
        " #l2 518\n",
        "        #  'min_samples_split': [3, 5, 8, 10, 20], \n",
        "        # 'n_estimators' : (100, 600),\n",
        "        # 'max_depth': (3,20),\n",
        "        # 'max_features': [3, 5, 8],\n",
        "        # 'learning_rate': (0.01, 1.0, 'log-uniform'),\n",
        "        # 'colsample_bytree': (0.1, 1.0, 'uniform'),\n",
        "        # 'colsample_bylevel': (0.4, 1.0, 'uniform'),\n",
        "        # 'max_delta_step':(1,5),\n",
        "        # 'reg_alpha':(0.001,1.0),\n",
        "        # 'subsample':(0.5,1),\n",
        "        # 'min_child_weight':(1,10)\n",
        "\n",
        "\n",
        "        \n",
        "\n",
        "        # set 4 : AUC 0.90609\n",
        "        # 'min_samples_split': [3, 5, 8, 10, 20], \n",
        "        # 'n_estimators' : (100, 600),\n",
        "        # 'max_depth': [3, 5, 8, 10, 15,20],\n",
        "        # 'max_features': [3, 5, 8,10,15,20],\n",
        "        # 'learning_rate': (0.01, 1.0, 'log-uniform'),\n",
        "        # 'colsample_bytree': (0.1, 1.0, 'uniform'),\n",
        "        # 'colsample_bylevel': (0.1, 1.0, 'uniform'),\n",
        "        # 'scale_pos_weight':(1,120)\n",
        "        \n",
        "        \n",
        "        #'gamma':(1e-6, 0.8, 'log-uniform'),\n",
        "        # 'min_child_weight':[6,8,10,12]\n",
        "\n",
        "        # 'min_samples_split': [3, 5, 8, 10, 20], \n",
        "        # 'n_estimators' : (100, 700),\n",
        "        # 'max_depth': [3, 5, 8, 10, 15],\n",
        "        # 'max_features': [3, 5, 8],\n",
        "        # 'learning_rate': (0.01, 1.0, 'log-uniform'),\n",
        "        # 'colsample_bytree': (0.01, 1.0, 'uniform'),\n",
        "        # 'colsample_bylevel': (0.01, 1.0, 'uniform'),\n",
        "        # 'gamma':(1,10),\n",
        "        #  'subsample': (0.5, 1.0, 'uniform'),\n",
        "        #  'scale_pos_weight': (1, 100, 'log-uniform')\n",
        "\n",
        "\n",
        "        # 'scale_pos_weight': (10, 100, 'log-uniform'),\n",
        "        # 'learning_rate': (0.2, 1.0, 'log-uniform'),\n",
        "        # 'min_child_weight': (1, 9),\n",
        "        # 'max_depth': (3, 20),\n",
        "        # 'subsample': (0.5, 1.0, 'uniform'),\n",
        "        # 'colsample_bytree': (0.5, 1.0, 'uniform'),\n",
        "        # 'min_child_weight': (1, 5),\n",
        "        # 'n_estimators' : (300, 800),\n",
        "        # 'gamma':(4,10),\n",
        "        # 'colsample_bylevel': (0.4, 1.0, 'uniform')\n",
        "\n",
        "# Model #30\n",
        "# Best ROC-AUC: 0.891\n",
        "# Best params: OrderedDict([('colsample_bylevel', 0.4), ('colsample_bytree', 0.27608852148395063), ('learning_rate', 0.05130200263047589), ('max_depth', 20), ('max_features', 3), ('min_samples_split', 3), ('n_estimators', 600)])\n"
      ],
      "execution_count": 0,
      "outputs": []
    },
    {
      "cell_type": "code",
      "metadata": {
        "id": "wKGUXCWVQHSk",
        "colab_type": "code",
        "colab": {}
      },
      "source": [
        "def print_status_XGB(optim_result):\n",
        "    \"\"\"Status callback durring bayesian hyperparameter search\"\"\"\n",
        "    \n",
        "    # Get all the models tested so far in DataFrame format\n",
        "    all_models = pd.DataFrame(bayes_cv_tuner.cv_results_)    \n",
        "    \n",
        "    # Get current parameters and the best parameters    \n",
        "    best_params = pd.Series(bayes_cv_tuner.best_params_)\n",
        "    print('Model #{}\\nBest ROC-AUC: {}\\nBest params: {}\\n'.format(\n",
        "        len(all_models),\n",
        "        np.round(bayes_cv_tuner.best_score_, 4),\n",
        "        bayes_cv_tuner.best_params_\n",
        "    ))\n",
        "    \n",
        "    # Save all model results\n",
        "    clf_name = bayes_cv_tuner.estimator.__class__.__name__\n",
        "    all_models.to_csv(clf_name+\"_cv_results.csv\")"
      ],
      "execution_count": 0,
      "outputs": []
    },
    {
      "cell_type": "code",
      "metadata": {
        "id": "who4pqxeQbql",
        "colab_type": "code",
        "outputId": "5423463e-8660-41a1-b8ba-39df7f4571cc",
        "colab": {
          "base_uri": "https://localhost:8080/",
          "height": 1000
        }
      },
      "source": [
        "result_xgb = bayes_cv_tuner.fit(X_final, y_final, callback=print_status_XGB)\n",
        "\n",
        "#https://www.kaggle.com/c/home-credit-default-risk/discussion/59195#350023 "
      ],
      "execution_count": 149,
      "outputs": [
        {
          "output_type": "stream",
          "text": [
            "Model #1\n",
            "Best ROC-AUC: 0.8602\n",
            "Best params: OrderedDict([('colsample_bylevel', 0.6460623753119883), ('colsample_bytree', 0.7549531688595925), ('learning_rate', 0.7340675018434776), ('max_depth', 8), ('max_features', 8), ('min_samples_split', 8), ('n_estimators', 275)])\n",
            "\n",
            "Model #2\n",
            "Best ROC-AUC: 0.8602\n",
            "Best params: OrderedDict([('colsample_bylevel', 0.6460623753119883), ('colsample_bytree', 0.7549531688595925), ('learning_rate', 0.7340675018434776), ('max_depth', 8), ('max_features', 8), ('min_samples_split', 8), ('n_estimators', 275)])\n",
            "\n",
            "Model #3\n",
            "Best ROC-AUC: 0.8602\n",
            "Best params: OrderedDict([('colsample_bylevel', 0.6460623753119883), ('colsample_bytree', 0.7549531688595925), ('learning_rate', 0.7340675018434776), ('max_depth', 8), ('max_features', 8), ('min_samples_split', 8), ('n_estimators', 275)])\n",
            "\n",
            "Model #4\n",
            "Best ROC-AUC: 0.8864\n",
            "Best params: OrderedDict([('colsample_bylevel', 0.887437593014418), ('colsample_bytree', 0.2546844052569046), ('learning_rate', 0.1570703295827246), ('max_depth', 17), ('max_features', 5), ('min_samples_split', 3), ('n_estimators', 478)])\n",
            "\n",
            "Model #5\n",
            "Best ROC-AUC: 0.8864\n",
            "Best params: OrderedDict([('colsample_bylevel', 0.887437593014418), ('colsample_bytree', 0.2546844052569046), ('learning_rate', 0.1570703295827246), ('max_depth', 17), ('max_features', 5), ('min_samples_split', 3), ('n_estimators', 478)])\n",
            "\n",
            "Model #6\n",
            "Best ROC-AUC: 0.8864\n",
            "Best params: OrderedDict([('colsample_bylevel', 0.887437593014418), ('colsample_bytree', 0.2546844052569046), ('learning_rate', 0.1570703295827246), ('max_depth', 17), ('max_features', 5), ('min_samples_split', 3), ('n_estimators', 478)])\n",
            "\n",
            "Model #7\n",
            "Best ROC-AUC: 0.8864\n",
            "Best params: OrderedDict([('colsample_bylevel', 0.887437593014418), ('colsample_bytree', 0.2546844052569046), ('learning_rate', 0.1570703295827246), ('max_depth', 17), ('max_features', 5), ('min_samples_split', 3), ('n_estimators', 478)])\n",
            "\n",
            "Model #8\n",
            "Best ROC-AUC: 0.8864\n",
            "Best params: OrderedDict([('colsample_bylevel', 0.887437593014418), ('colsample_bytree', 0.2546844052569046), ('learning_rate', 0.1570703295827246), ('max_depth', 17), ('max_features', 5), ('min_samples_split', 3), ('n_estimators', 478)])\n",
            "\n",
            "Model #9\n",
            "Best ROC-AUC: 0.8864\n",
            "Best params: OrderedDict([('colsample_bylevel', 0.887437593014418), ('colsample_bytree', 0.2546844052569046), ('learning_rate', 0.1570703295827246), ('max_depth', 17), ('max_features', 5), ('min_samples_split', 3), ('n_estimators', 478)])\n",
            "\n",
            "Model #10\n",
            "Best ROC-AUC: 0.8864\n",
            "Best params: OrderedDict([('colsample_bylevel', 0.887437593014418), ('colsample_bytree', 0.2546844052569046), ('learning_rate', 0.1570703295827246), ('max_depth', 17), ('max_features', 5), ('min_samples_split', 3), ('n_estimators', 478)])\n",
            "\n",
            "Model #11\n",
            "Best ROC-AUC: 0.8864\n",
            "Best params: OrderedDict([('colsample_bylevel', 0.887437593014418), ('colsample_bytree', 0.2546844052569046), ('learning_rate', 0.1570703295827246), ('max_depth', 17), ('max_features', 5), ('min_samples_split', 3), ('n_estimators', 478)])\n",
            "\n",
            "Model #12\n",
            "Best ROC-AUC: 0.8864\n",
            "Best params: OrderedDict([('colsample_bylevel', 0.887437593014418), ('colsample_bytree', 0.2546844052569046), ('learning_rate', 0.1570703295827246), ('max_depth', 17), ('max_features', 5), ('min_samples_split', 3), ('n_estimators', 478)])\n",
            "\n",
            "Model #13\n",
            "Best ROC-AUC: 0.8864\n",
            "Best params: OrderedDict([('colsample_bylevel', 0.887437593014418), ('colsample_bytree', 0.2546844052569046), ('learning_rate', 0.1570703295827246), ('max_depth', 17), ('max_features', 5), ('min_samples_split', 3), ('n_estimators', 478)])\n",
            "\n",
            "Model #14\n",
            "Best ROC-AUC: 0.8864\n",
            "Best params: OrderedDict([('colsample_bylevel', 0.887437593014418), ('colsample_bytree', 0.2546844052569046), ('learning_rate', 0.1570703295827246), ('max_depth', 17), ('max_features', 5), ('min_samples_split', 3), ('n_estimators', 478)])\n",
            "\n",
            "Model #15\n",
            "Best ROC-AUC: 0.8864\n",
            "Best params: OrderedDict([('colsample_bylevel', 0.887437593014418), ('colsample_bytree', 0.2546844052569046), ('learning_rate', 0.1570703295827246), ('max_depth', 17), ('max_features', 5), ('min_samples_split', 3), ('n_estimators', 478)])\n",
            "\n",
            "Model #16\n",
            "Best ROC-AUC: 0.8864\n",
            "Best params: OrderedDict([('colsample_bylevel', 0.887437593014418), ('colsample_bytree', 0.2546844052569046), ('learning_rate', 0.1570703295827246), ('max_depth', 17), ('max_features', 5), ('min_samples_split', 3), ('n_estimators', 478)])\n",
            "\n",
            "Model #17\n",
            "Best ROC-AUC: 0.8864\n",
            "Best params: OrderedDict([('colsample_bylevel', 0.887437593014418), ('colsample_bytree', 0.2546844052569046), ('learning_rate', 0.1570703295827246), ('max_depth', 17), ('max_features', 5), ('min_samples_split', 3), ('n_estimators', 478)])\n",
            "\n",
            "Model #18\n",
            "Best ROC-AUC: 0.891\n",
            "Best params: OrderedDict([('colsample_bylevel', 0.4), ('colsample_bytree', 0.27608852148395063), ('learning_rate', 0.05130200263047589), ('max_depth', 20), ('max_features', 3), ('min_samples_split', 3), ('n_estimators', 600)])\n",
            "\n",
            "Model #19\n",
            "Best ROC-AUC: 0.891\n",
            "Best params: OrderedDict([('colsample_bylevel', 0.4), ('colsample_bytree', 0.27608852148395063), ('learning_rate', 0.05130200263047589), ('max_depth', 20), ('max_features', 3), ('min_samples_split', 3), ('n_estimators', 600)])\n",
            "\n",
            "Model #20\n",
            "Best ROC-AUC: 0.891\n",
            "Best params: OrderedDict([('colsample_bylevel', 0.4), ('colsample_bytree', 0.27608852148395063), ('learning_rate', 0.05130200263047589), ('max_depth', 20), ('max_features', 3), ('min_samples_split', 3), ('n_estimators', 600)])\n",
            "\n",
            "Model #21\n",
            "Best ROC-AUC: 0.891\n",
            "Best params: OrderedDict([('colsample_bylevel', 0.4), ('colsample_bytree', 0.27608852148395063), ('learning_rate', 0.05130200263047589), ('max_depth', 20), ('max_features', 3), ('min_samples_split', 3), ('n_estimators', 600)])\n",
            "\n",
            "Model #22\n",
            "Best ROC-AUC: 0.891\n",
            "Best params: OrderedDict([('colsample_bylevel', 0.4), ('colsample_bytree', 0.27608852148395063), ('learning_rate', 0.05130200263047589), ('max_depth', 20), ('max_features', 3), ('min_samples_split', 3), ('n_estimators', 600)])\n",
            "\n",
            "Model #23\n",
            "Best ROC-AUC: 0.891\n",
            "Best params: OrderedDict([('colsample_bylevel', 0.4), ('colsample_bytree', 0.27608852148395063), ('learning_rate', 0.05130200263047589), ('max_depth', 20), ('max_features', 3), ('min_samples_split', 3), ('n_estimators', 600)])\n",
            "\n",
            "Model #24\n",
            "Best ROC-AUC: 0.891\n",
            "Best params: OrderedDict([('colsample_bylevel', 0.4), ('colsample_bytree', 0.27608852148395063), ('learning_rate', 0.05130200263047589), ('max_depth', 20), ('max_features', 3), ('min_samples_split', 3), ('n_estimators', 600)])\n",
            "\n",
            "Model #25\n",
            "Best ROC-AUC: 0.891\n",
            "Best params: OrderedDict([('colsample_bylevel', 0.4), ('colsample_bytree', 0.27608852148395063), ('learning_rate', 0.05130200263047589), ('max_depth', 20), ('max_features', 3), ('min_samples_split', 3), ('n_estimators', 600)])\n",
            "\n",
            "Model #26\n",
            "Best ROC-AUC: 0.891\n",
            "Best params: OrderedDict([('colsample_bylevel', 0.4), ('colsample_bytree', 0.27608852148395063), ('learning_rate', 0.05130200263047589), ('max_depth', 20), ('max_features', 3), ('min_samples_split', 3), ('n_estimators', 600)])\n",
            "\n",
            "Model #27\n",
            "Best ROC-AUC: 0.891\n",
            "Best params: OrderedDict([('colsample_bylevel', 0.4), ('colsample_bytree', 0.27608852148395063), ('learning_rate', 0.05130200263047589), ('max_depth', 20), ('max_features', 3), ('min_samples_split', 3), ('n_estimators', 600)])\n",
            "\n",
            "Model #28\n",
            "Best ROC-AUC: 0.891\n",
            "Best params: OrderedDict([('colsample_bylevel', 0.4), ('colsample_bytree', 0.27608852148395063), ('learning_rate', 0.05130200263047589), ('max_depth', 20), ('max_features', 3), ('min_samples_split', 3), ('n_estimators', 600)])\n",
            "\n",
            "Model #29\n",
            "Best ROC-AUC: 0.891\n",
            "Best params: OrderedDict([('colsample_bylevel', 0.4), ('colsample_bytree', 0.27608852148395063), ('learning_rate', 0.05130200263047589), ('max_depth', 20), ('max_features', 3), ('min_samples_split', 3), ('n_estimators', 600)])\n",
            "\n",
            "Model #30\n",
            "Best ROC-AUC: 0.891\n",
            "Best params: OrderedDict([('colsample_bylevel', 0.4), ('colsample_bytree', 0.27608852148395063), ('learning_rate', 0.05130200263047589), ('max_depth', 20), ('max_features', 3), ('min_samples_split', 3), ('n_estimators', 600)])\n",
            "\n",
            "Model #31\n",
            "Best ROC-AUC: 0.891\n",
            "Best params: OrderedDict([('colsample_bylevel', 0.4), ('colsample_bytree', 0.27608852148395063), ('learning_rate', 0.05130200263047589), ('max_depth', 20), ('max_features', 3), ('min_samples_split', 3), ('n_estimators', 600)])\n",
            "\n",
            "Model #32\n",
            "Best ROC-AUC: 0.891\n",
            "Best params: OrderedDict([('colsample_bylevel', 0.4), ('colsample_bytree', 0.27608852148395063), ('learning_rate', 0.05130200263047589), ('max_depth', 20), ('max_features', 3), ('min_samples_split', 3), ('n_estimators', 600)])\n",
            "\n",
            "Model #33\n",
            "Best ROC-AUC: 0.891\n",
            "Best params: OrderedDict([('colsample_bylevel', 0.4), ('colsample_bytree', 0.27608852148395063), ('learning_rate', 0.05130200263047589), ('max_depth', 20), ('max_features', 3), ('min_samples_split', 3), ('n_estimators', 600)])\n",
            "\n",
            "Model #34\n",
            "Best ROC-AUC: 0.891\n",
            "Best params: OrderedDict([('colsample_bylevel', 0.4), ('colsample_bytree', 0.27608852148395063), ('learning_rate', 0.05130200263047589), ('max_depth', 20), ('max_features', 3), ('min_samples_split', 3), ('n_estimators', 600)])\n",
            "\n",
            "Model #35\n",
            "Best ROC-AUC: 0.891\n",
            "Best params: OrderedDict([('colsample_bylevel', 0.4), ('colsample_bytree', 0.27608852148395063), ('learning_rate', 0.05130200263047589), ('max_depth', 20), ('max_features', 3), ('min_samples_split', 3), ('n_estimators', 600)])\n",
            "\n",
            "Model #36\n",
            "Best ROC-AUC: 0.891\n",
            "Best params: OrderedDict([('colsample_bylevel', 0.4), ('colsample_bytree', 0.27608852148395063), ('learning_rate', 0.05130200263047589), ('max_depth', 20), ('max_features', 3), ('min_samples_split', 3), ('n_estimators', 600)])\n",
            "\n",
            "Model #37\n",
            "Best ROC-AUC: 0.891\n",
            "Best params: OrderedDict([('colsample_bylevel', 0.4), ('colsample_bytree', 0.27608852148395063), ('learning_rate', 0.05130200263047589), ('max_depth', 20), ('max_features', 3), ('min_samples_split', 3), ('n_estimators', 600)])\n",
            "\n",
            "Model #38\n",
            "Best ROC-AUC: 0.891\n",
            "Best params: OrderedDict([('colsample_bylevel', 0.4), ('colsample_bytree', 0.27608852148395063), ('learning_rate', 0.05130200263047589), ('max_depth', 20), ('max_features', 3), ('min_samples_split', 3), ('n_estimators', 600)])\n",
            "\n",
            "Model #39\n",
            "Best ROC-AUC: 0.8919\n",
            "Best params: OrderedDict([('colsample_bylevel', 1.0), ('colsample_bytree', 0.21858736018325325), ('learning_rate', 0.041947225539799765), ('max_depth', 20), ('max_features', 8), ('min_samples_split', 3), ('n_estimators', 594)])\n",
            "\n",
            "Model #40\n",
            "Best ROC-AUC: 0.8919\n",
            "Best params: OrderedDict([('colsample_bylevel', 1.0), ('colsample_bytree', 0.21858736018325325), ('learning_rate', 0.041947225539799765), ('max_depth', 20), ('max_features', 8), ('min_samples_split', 3), ('n_estimators', 594)])\n",
            "\n",
            "Model #41\n",
            "Best ROC-AUC: 0.8919\n",
            "Best params: OrderedDict([('colsample_bylevel', 1.0), ('colsample_bytree', 0.21858736018325325), ('learning_rate', 0.041947225539799765), ('max_depth', 20), ('max_features', 8), ('min_samples_split', 3), ('n_estimators', 594)])\n",
            "\n",
            "Model #42\n",
            "Best ROC-AUC: 0.8919\n",
            "Best params: OrderedDict([('colsample_bylevel', 1.0), ('colsample_bytree', 0.21858736018325325), ('learning_rate', 0.041947225539799765), ('max_depth', 20), ('max_features', 8), ('min_samples_split', 3), ('n_estimators', 594)])\n",
            "\n",
            "Model #43\n",
            "Best ROC-AUC: 0.8919\n",
            "Best params: OrderedDict([('colsample_bylevel', 1.0), ('colsample_bytree', 0.21858736018325325), ('learning_rate', 0.041947225539799765), ('max_depth', 20), ('max_features', 8), ('min_samples_split', 3), ('n_estimators', 594)])\n",
            "\n",
            "Model #44\n",
            "Best ROC-AUC: 0.8919\n",
            "Best params: OrderedDict([('colsample_bylevel', 1.0), ('colsample_bytree', 0.21858736018325325), ('learning_rate', 0.041947225539799765), ('max_depth', 20), ('max_features', 8), ('min_samples_split', 3), ('n_estimators', 594)])\n",
            "\n",
            "Model #45\n",
            "Best ROC-AUC: 0.8919\n",
            "Best params: OrderedDict([('colsample_bylevel', 1.0), ('colsample_bytree', 0.21858736018325325), ('learning_rate', 0.041947225539799765), ('max_depth', 20), ('max_features', 8), ('min_samples_split', 3), ('n_estimators', 594)])\n",
            "\n",
            "Model #46\n",
            "Best ROC-AUC: 0.8919\n",
            "Best params: OrderedDict([('colsample_bylevel', 1.0), ('colsample_bytree', 0.21858736018325325), ('learning_rate', 0.041947225539799765), ('max_depth', 20), ('max_features', 8), ('min_samples_split', 3), ('n_estimators', 594)])\n",
            "\n",
            "Model #47\n",
            "Best ROC-AUC: 0.8919\n",
            "Best params: OrderedDict([('colsample_bylevel', 1.0), ('colsample_bytree', 0.21858736018325325), ('learning_rate', 0.041947225539799765), ('max_depth', 20), ('max_features', 8), ('min_samples_split', 3), ('n_estimators', 594)])\n",
            "\n",
            "Model #48\n",
            "Best ROC-AUC: 0.8919\n",
            "Best params: OrderedDict([('colsample_bylevel', 1.0), ('colsample_bytree', 0.21858736018325325), ('learning_rate', 0.041947225539799765), ('max_depth', 20), ('max_features', 8), ('min_samples_split', 3), ('n_estimators', 594)])\n",
            "\n",
            "Model #49\n",
            "Best ROC-AUC: 0.8919\n",
            "Best params: OrderedDict([('colsample_bylevel', 1.0), ('colsample_bytree', 0.21858736018325325), ('learning_rate', 0.041947225539799765), ('max_depth', 20), ('max_features', 8), ('min_samples_split', 3), ('n_estimators', 594)])\n",
            "\n",
            "Model #50\n",
            "Best ROC-AUC: 0.8919\n",
            "Best params: OrderedDict([('colsample_bylevel', 1.0), ('colsample_bytree', 0.21858736018325325), ('learning_rate', 0.041947225539799765), ('max_depth', 20), ('max_features', 8), ('min_samples_split', 3), ('n_estimators', 594)])\n",
            "\n"
          ],
          "name": "stdout"
        }
      ]
    },
    {
      "cell_type": "markdown",
      "metadata": {
        "id": "TUIhi0iCC7g3",
        "colab_type": "text"
      },
      "source": [
        "Model #1\n",
        "Best ROC-AUC: 0.8602\n",
        "Best params: OrderedDict([('colsample_bylevel', 0.6460623753119883), ('colsample_bytree', 0.7549531688595925), ('learning_rate', 0.7340675018434776), ('max_depth', 8), ('max_features', 8), ('min_samples_split', 8), ('n_estimators', 275)])\n",
        "\n",
        "Model #2\n",
        "Best ROC-AUC: 0.8602\n",
        "Best params: OrderedDict([('colsample_bylevel', 0.6460623753119883), ('colsample_bytree', 0.7549531688595925), ('learning_rate', 0.7340675018434776), ('max_depth', 8), ('max_features', 8), ('min_samples_split', 8), ('n_estimators', 275)])\n",
        "\n",
        "Model #3\n",
        "Best ROC-AUC: 0.8602\n",
        "Best params: OrderedDict([('colsample_bylevel', 0.6460623753119883), ('colsample_bytree', 0.7549531688595925), ('learning_rate', 0.7340675018434776), ('max_depth', 8), ('max_features', 8), ('min_samples_split', 8), ('n_estimators', 275)])\n",
        "\n",
        "Model #4\n",
        "Best ROC-AUC: 0.8864\n",
        "Best params: OrderedDict([('colsample_bylevel', 0.887437593014418), ('colsample_bytree', 0.2546844052569046), ('learning_rate', 0.1570703295827246), ('max_depth', 17), ('max_features', 5), ('min_samples_split', 3), ('n_estimators', 478)])\n",
        "\n",
        "Model #5\n",
        "Best ROC-AUC: 0.8864\n",
        "Best params: OrderedDict([('colsample_bylevel', 0.887437593014418), ('colsample_bytree', 0.2546844052569046), ('learning_rate', 0.1570703295827246), ('max_depth', 17), ('max_features', 5), ('min_samples_split', 3), ('n_estimators', 478)])\n",
        "\n",
        "Model #6\n",
        "Best ROC-AUC: 0.8864\n",
        "Best params: OrderedDict([('colsample_bylevel', 0.887437593014418), ('colsample_bytree', 0.2546844052569046), ('learning_rate', 0.1570703295827246), ('max_depth', 17), ('max_features', 5), ('min_samples_split', 3), ('n_estimators', 478)])\n",
        "\n",
        "Model #7\n",
        "Best ROC-AUC: 0.8864\n",
        "Best params: OrderedDict([('colsample_bylevel', 0.887437593014418), ('colsample_bytree', 0.2546844052569046), ('learning_rate', 0.1570703295827246), ('max_depth', 17), ('max_features', 5), ('min_samples_split', 3), ('n_estimators', 478)])\n",
        "\n",
        "Model #8\n",
        "Best ROC-AUC: 0.8864\n",
        "Best params: OrderedDict([('colsample_bylevel', 0.887437593014418), ('colsample_bytree', 0.2546844052569046), ('learning_rate', 0.1570703295827246), ('max_depth', 17), ('max_features', 5), ('min_samples_split', 3), ('n_estimators', 478)])\n",
        "\n",
        "Model #9\n",
        "Best ROC-AUC: 0.8864\n",
        "Best params: OrderedDict([('colsample_bylevel', 0.887437593014418), ('colsample_bytree', 0.2546844052569046), ('learning_rate', 0.1570703295827246), ('max_depth', 17), ('max_features', 5), ('min_samples_split', 3), ('n_estimators', 478)])\n",
        "\n",
        "Model #10\n",
        "Best ROC-AUC: 0.8864\n",
        "Best params: OrderedDict([('colsample_bylevel', 0.887437593014418), ('colsample_bytree', 0.2546844052569046), ('learning_rate', 0.1570703295827246), ('max_depth', 17), ('max_features', 5), ('min_samples_split', 3), ('n_estimators', 478)])\n",
        "\n",
        "Model #11\n",
        "Best ROC-AUC: 0.8864\n",
        "Best params: OrderedDict([('colsample_bylevel', 0.887437593014418), ('colsample_bytree', 0.2546844052569046), ('learning_rate', 0.1570703295827246), ('max_depth', 17), ('max_features', 5), ('min_samples_split', 3), ('n_estimators', 478)])\n",
        "\n",
        "Model #12\n",
        "Best ROC-AUC: 0.8864\n",
        "Best params: OrderedDict([('colsample_bylevel', 0.887437593014418), ('colsample_bytree', 0.2546844052569046), ('learning_rate', 0.1570703295827246), ('max_depth', 17), ('max_features', 5), ('min_samples_split', 3), ('n_estimators', 478)])\n",
        "\n",
        "Model #13\n",
        "Best ROC-AUC: 0.8864\n",
        "Best params: OrderedDict([('colsample_bylevel', 0.887437593014418), ('colsample_bytree', 0.2546844052569046), ('learning_rate', 0.1570703295827246), ('max_depth', 17), ('max_features', 5), ('min_samples_split', 3), ('n_estimators', 478)])\n",
        "\n",
        "Model #14\n",
        "Best ROC-AUC: 0.8864\n",
        "Best params: OrderedDict([('colsample_bylevel', 0.887437593014418), ('colsample_bytree', 0.2546844052569046), ('learning_rate', 0.1570703295827246), ('max_depth', 17), ('max_features', 5), ('min_samples_split', 3), ('n_estimators', 478)])\n",
        "\n",
        "Model #15\n",
        "Best ROC-AUC: 0.8864\n",
        "Best params: OrderedDict([('colsample_bylevel', 0.887437593014418), ('colsample_bytree', 0.2546844052569046), ('learning_rate', 0.1570703295827246), ('max_depth', 17), ('max_features', 5), ('min_samples_split', 3), ('n_estimators', 478)])\n",
        "\n",
        "Model #16\n",
        "Best ROC-AUC: 0.8864\n",
        "Best params: OrderedDict([('colsample_bylevel', 0.887437593014418), ('colsample_bytree', 0.2546844052569046), ('learning_rate', 0.1570703295827246), ('max_depth', 17), ('max_features', 5), ('min_samples_split', 3), ('n_estimators', 478)])\n",
        "\n",
        "Model #17\n",
        "Best ROC-AUC: 0.8864\n",
        "Best params: OrderedDict([('colsample_bylevel', 0.887437593014418), ('colsample_bytree', 0.2546844052569046), ('learning_rate', 0.1570703295827246), ('max_depth', 17), ('max_features', 5), ('min_samples_split', 3), ('n_estimators', 478)])\n",
        "\n",
        "Model #18\n",
        "Best ROC-AUC: 0.891\n",
        "Best params: OrderedDict([('colsample_bylevel', 0.4), ('colsample_bytree', 0.27608852148395063), ('learning_rate', 0.05130200263047589), ('max_depth', 20), ('max_features', 3), ('min_samples_split', 3), ('n_estimators', 600)])\n",
        "\n",
        "Model #19\n",
        "Best ROC-AUC: 0.891\n",
        "Best params: OrderedDict([('colsample_bylevel', 0.4), ('colsample_bytree', 0.27608852148395063), ('learning_rate', 0.05130200263047589), ('max_depth', 20), ('max_features', 3), ('min_samples_split', 3), ('n_estimators', 600)])\n",
        "\n",
        "Model #20\n",
        "Best ROC-AUC: 0.891\n",
        "Best params: OrderedDict([('colsample_bylevel', 0.4), ('colsample_bytree', 0.27608852148395063), ('learning_rate', 0.05130200263047589), ('max_depth', 20), ('max_features', 3), ('min_samples_split', 3), ('n_estimators', 600)])\n",
        "\n",
        "Model #21\n",
        "Best ROC-AUC: 0.891\n",
        "Best params: OrderedDict([('colsample_bylevel', 0.4), ('colsample_bytree', 0.27608852148395063), ('learning_rate', 0.05130200263047589), ('max_depth', 20), ('max_features', 3), ('min_samples_split', 3), ('n_estimators', 600)])\n",
        "\n",
        "Model #22\n",
        "Best ROC-AUC: 0.891\n",
        "Best params: OrderedDict([('colsample_bylevel', 0.4), ('colsample_bytree', 0.27608852148395063), ('learning_rate', 0.05130200263047589), ('max_depth', 20), ('max_features', 3), ('min_samples_split', 3), ('n_estimators', 600)])\n",
        "\n",
        "Model #23\n",
        "Best ROC-AUC: 0.891\n",
        "Best params: OrderedDict([('colsample_bylevel', 0.4), ('colsample_bytree', 0.27608852148395063), ('learning_rate', 0.05130200263047589), ('max_depth', 20), ('max_features', 3), ('min_samples_split', 3), ('n_estimators', 600)])\n",
        "\n",
        "Model #24\n",
        "Best ROC-AUC: 0.891\n",
        "Best params: OrderedDict([('colsample_bylevel', 0.4), ('colsample_bytree', 0.27608852148395063), ('learning_rate', 0.05130200263047589), ('max_depth', 20), ('max_features', 3), ('min_samples_split', 3), ('n_estimators', 600)])\n",
        "\n",
        "Model #25\n",
        "Best ROC-AUC: 0.891\n",
        "Best params: OrderedDict([('colsample_bylevel', 0.4), ('colsample_bytree', 0.27608852148395063), ('learning_rate', 0.05130200263047589), ('max_depth', 20), ('max_features', 3), ('min_samples_split', 3), ('n_estimators', 600)])\n",
        "\n",
        "Model #26\n",
        "Best ROC-AUC: 0.891\n",
        "Best params: OrderedDict([('colsample_bylevel', 0.4), ('colsample_bytree', 0.27608852148395063), ('learning_rate', 0.05130200263047589), ('max_depth', 20), ('max_features', 3), ('min_samples_split', 3), ('n_estimators', 600)])\n",
        "\n",
        "Model #27\n",
        "Best ROC-AUC: 0.891\n",
        "Best params: OrderedDict([('colsample_bylevel', 0.4), ('colsample_bytree', 0.27608852148395063), ('learning_rate', 0.05130200263047589), ('max_depth', 20), ('max_features', 3), ('min_samples_split', 3), ('n_estimators', 600)])\n",
        "\n",
        "Model #28\n",
        "Best ROC-AUC: 0.891\n",
        "Best params: OrderedDict([('colsample_bylevel', 0.4), ('colsample_bytree', 0.27608852148395063), ('learning_rate', 0.05130200263047589), ('max_depth', 20), ('max_features', 3), ('min_samples_split', 3), ('n_estimators', 600)])\n",
        "\n",
        "Model #29\n",
        "Best ROC-AUC: 0.891\n",
        "Best params: OrderedDict([('colsample_bylevel', 0.4), ('colsample_bytree', 0.27608852148395063), ('learning_rate', 0.05130200263047589), ('max_depth', 20), ('max_features', 3), ('min_samples_split', 3), ('n_estimators', 600)])\n",
        "\n",
        "Model #30\n",
        "Best ROC-AUC: 0.891\n",
        "Best params: OrderedDict([('colsample_bylevel', 0.4), ('colsample_bytree', 0.27608852148395063), ('learning_rate', 0.05130200263047589), ('max_depth', 20), ('max_features', 3), ('min_samples_split', 3), ('n_estimators', 600)])\n",
        "\n",
        "Model #31\n",
        "Best ROC-AUC: 0.891\n",
        "Best params: OrderedDict([('colsample_bylevel', 0.4), ('colsample_bytree', 0.27608852148395063), ('learning_rate', 0.05130200263047589), ('max_depth', 20), ('max_features', 3), ('min_samples_split', 3), ('n_estimators', 600)])\n",
        "\n",
        "Model #32\n",
        "Best ROC-AUC: 0.891\n",
        "Best params: OrderedDict([('colsample_bylevel', 0.4), ('colsample_bytree', 0.27608852148395063), ('learning_rate', 0.05130200263047589), ('max_depth', 20), ('max_features', 3), ('min_samples_split', 3), ('n_estimators', 600)])\n",
        "\n",
        "Model #33\n",
        "Best ROC-AUC: 0.891\n",
        "Best params: OrderedDict([('colsample_bylevel', 0.4), ('colsample_bytree', 0.27608852148395063), ('learning_rate', 0.05130200263047589), ('max_depth', 20), ('max_features', 3), ('min_samples_split', 3), ('n_estimators', 600)])\n",
        "\n",
        "Model #34\n",
        "Best ROC-AUC: 0.891\n",
        "Best params: OrderedDict([('colsample_bylevel', 0.4), ('colsample_bytree', 0.27608852148395063), ('learning_rate', 0.05130200263047589), ('max_depth', 20), ('max_features', 3), ('min_samples_split', 3), ('n_estimators', 600)])\n",
        "\n",
        "Model #35\n",
        "Best ROC-AUC: 0.891\n",
        "Best params: OrderedDict([('colsample_bylevel', 0.4), ('colsample_bytree', 0.27608852148395063), ('learning_rate', 0.05130200263047589), ('max_depth', 20), ('max_features', 3), ('min_samples_split', 3), ('n_estimators', 600)])\n",
        "\n",
        "Model #36\n",
        "Best ROC-AUC: 0.891\n",
        "Best params: OrderedDict([('colsample_bylevel', 0.4), ('colsample_bytree', 0.27608852148395063), ('learning_rate', 0.05130200263047589), ('max_depth', 20), ('max_features', 3), ('min_samples_split', 3), ('n_estimators', 600)])\n",
        "\n",
        "Model #37\n",
        "Best ROC-AUC: 0.891\n",
        "Best params: OrderedDict([('colsample_bylevel', 0.4), ('colsample_bytree', 0.27608852148395063), ('learning_rate', 0.05130200263047589), ('max_depth', 20), ('max_features', 3), ('min_samples_split', 3), ('n_estimators', 600)])\n",
        "\n",
        "Model #38\n",
        "Best ROC-AUC: 0.891\n",
        "Best params: OrderedDict([('colsample_bylevel', 0.4), ('colsample_bytree', 0.27608852148395063), ('learning_rate', 0.05130200263047589), ('max_depth', 20), ('max_features', 3), ('min_samples_split', 3), ('n_estimators', 600)])\n",
        "\n",
        "Model #39\n",
        "Best ROC-AUC: 0.8919\n",
        "Best params: OrderedDict([('colsample_bylevel', 1.0), ('colsample_bytree', 0.21858736018325325), ('learning_rate', 0.041947225539799765), ('max_depth', 20), ('max_features', 8), ('min_samples_split', 3), ('n_estimators', 594)])\n",
        "\n",
        "Model #40\n",
        "Best ROC-AUC: 0.8919\n",
        "Best params: OrderedDict([('colsample_bylevel', 1.0), ('colsample_bytree', 0.21858736018325325), ('learning_rate', 0.041947225539799765), ('max_depth', 20), ('max_features', 8), ('min_samples_split', 3), ('n_estimators', 594)])\n",
        "\n",
        "Model #41\n",
        "Best ROC-AUC: 0.8919\n",
        "Best params: OrderedDict([('colsample_bylevel', 1.0), ('colsample_bytree', 0.21858736018325325), ('learning_rate', 0.041947225539799765), ('max_depth', 20), ('max_features', 8), ('min_samples_split', 3), ('n_estimators', 594)])\n",
        "\n",
        "Model #42\n",
        "Best ROC-AUC: 0.8919\n",
        "Best params: OrderedDict([('colsample_bylevel', 1.0), ('colsample_bytree', 0.21858736018325325), ('learning_rate', 0.041947225539799765), ('max_depth', 20), ('max_features', 8), ('min_samples_split', 3), ('n_estimators', 594)])\n",
        "\n",
        "Model #43\n",
        "Best ROC-AUC: 0.8919\n",
        "Best params: OrderedDict([('colsample_bylevel', 1.0), ('colsample_bytree', 0.21858736018325325), ('learning_rate', 0.041947225539799765), ('max_depth', 20), ('max_features', 8), ('min_samples_split', 3), ('n_estimators', 594)])\n",
        "\n",
        "Model #44\n",
        "Best ROC-AUC: 0.8919\n",
        "Best params: OrderedDict([('colsample_bylevel', 1.0), ('colsample_bytree', 0.21858736018325325), ('learning_rate', 0.041947225539799765), ('max_depth', 20), ('max_features', 8), ('min_samples_split', 3), ('n_estimators', 594)])\n",
        "\n",
        "Model #45\n",
        "Best ROC-AUC: 0.8919\n",
        "Best params: OrderedDict([('colsample_bylevel', 1.0), ('colsample_bytree', 0.21858736018325325), ('learning_rate', 0.041947225539799765), ('max_depth', 20), ('max_features', 8), ('min_samples_split', 3), ('n_estimators', 594)])\n",
        "\n",
        "Model #46\n",
        "Best ROC-AUC: 0.8919\n",
        "Best params: OrderedDict([('colsample_bylevel', 1.0), ('colsample_bytree', 0.21858736018325325), ('learning_rate', 0.041947225539799765), ('max_depth', 20), ('max_features', 8), ('min_samples_split', 3), ('n_estimators', 594)])\n",
        "\n",
        "Model #47\n",
        "Best ROC-AUC: 0.8919\n",
        "Best params: OrderedDict([('colsample_bylevel', 1.0), ('colsample_bytree', 0.21858736018325325), ('learning_rate', 0.041947225539799765), ('max_depth', 20), ('max_features', 8), ('min_samples_split', 3), ('n_estimators', 594)])\n",
        "\n",
        "Model #48\n",
        "Best ROC-AUC: 0.8919\n",
        "Best params: OrderedDict([('colsample_bylevel', 1.0), ('colsample_bytree', 0.21858736018325325), ('learning_rate', 0.041947225539799765), ('max_depth', 20), ('max_features', 8), ('min_samples_split', 3), ('n_estimators', 594)])\n",
        "\n",
        "Model #49\n",
        "Best ROC-AUC: 0.8919\n",
        "Best params: OrderedDict([('colsample_bylevel', 1.0), ('colsample_bytree', 0.21858736018325325), ('learning_rate', 0.041947225539799765), ('max_depth', 20), ('max_features', 8), ('min_samples_split', 3), ('n_estimators', 594)])\n",
        "\n",
        "Model #50\n",
        "Best ROC-AUC: 0.8919\n",
        "Best params: OrderedDict([('colsample_bylevel', 1.0), ('colsample_bytree', 0.21858736018325325), ('learning_rate', 0.041947225539799765), ('max_depth', 20), ('max_features', 8), ('min_samples_split', 3), ('n_estimators', 594)])\n"
      ]
    },
    {
      "cell_type": "code",
      "metadata": {
        "id": "GZhrkUmpQKpk",
        "colab_type": "code",
        "colab": {}
      },
      "source": [
        "#set1 final #AUC 0.90564\n",
        "#xgb_bayestuned = XGBClassifier(max_depth=15,max_features=5,min_samples_split=3,n_estimators=402,colsample_bylevel=0.8142720284737898,colsample_bytree = 0.1801528457825951,learning_rate = 0.1570703295827246)\n",
        "\n",
        "# xgb_bayestuned = XGBClassifier(max_depth=15,subsample=0.5,max_features=5,scale_pos_weight=10,min_samples_split=10,n_estimators=650,colsample_bylevel=0.01,colsample_bytree = 0.426008174719091,learning_rate = 0.19380953318278352,max_delta_step=4,gamma=0.5)\n",
        "# this gives auc of 0.8706\n",
        "\n",
        "# this gives AUC of 0.90609\n",
        "# with parameter range of set 3\n",
        "#ROC-AUC Value for XGB: 0.899 (0.017)\n",
        "0.8990677078247691\n",
        "#xgb_bayestuned=XGBClassifier(max_depth=20,max_features=3,min_samples_split=3,n_estimators=600,colsample_bylevel=0.4,colsample_bytree = 0.27608852148395063,learning_rate = 0.05130200263047589)\n",
        "\n",
        "#ROC-AUC Value for XGB: 0.899 (0.018)\n",
        "#0.8993340310853304\n",
        "#xgb_bayestuned=XGBClassifier(max_depth=20,max_features=3,min_samples_split=3,n_estimators=450,colsample_bylevel=0.5,colsample_bytree = 0.27608852148395063,learning_rate = 0.05130200263047589)\n",
        "\n",
        "#Leader value: 0.91583\n",
        "#xgb_bayestuned=XGBClassifier(max_depth=20,max_features=8,min_samples_split=3,n_estimators=594,colsample_bylevel=1.0,colsample_bytree = 0.21858736018325325,learning_rate = 0.041947225539799765)\n",
        "\n",
        "# new params 9158\n",
        "#xgb_bayestuned=XGBClassifier(max_depth=14,max_features=8,min_samples_split=5,n_estimators=594,colsample_bylevel=1.0,colsample_bytree = 0.38060495936238325,learning_rate = 0.124509351412777,max_delta_step=1,reg_alpha=1,subsample=1.0)\n",
        "\n",
        "\n",
        "\n",
        "# Leader value: 0.911938 and cross validation value:0.9029456274853604 \n",
        "#xgb_bayestuned=XGBClassifier(max_depth=10,max_features=3,min_samples_split=3,n_estimators=190,colsample_bylevel=0.33742612871756195,colsample_bytree = 0.27481521977225165,learning_rate = 0.10610278725239894,scale_pos_weight=98)\n",
        "\n",
        "#xgb_bayestuned=XGBClassifier(max_depth=20,max_features=3,min_samples_split=3,n_estimators=350,colsample_bylevel=0.5,colsample_bytree = 0.27608852148395063,learning_rate = 0.05130200263047589)\n",
        "\n",
        "\n",
        "\n",
        "##xgb_bayestuned=XGBClassifier(max_depth=20,max_features=10,min_samples_split=10,n_estimators=350,colsample_bylevel=1.0,colsample_bytree = 0.37928895458823786,learning_rate = 0.05130200263047589,scale_pos_weight=100)\n",
        "\n",
        "## ROC CROSS BELOW 0.9034875\n",
        "#xgb_bayestuned=XGBClassifier(max_depth=20,max_features=5,min_samples_split=3,n_estimators=480,colsample_bylevel=0.8,colsample_bytree = 0.27608852148395063,learning_rate = 0.05130200263047589,min_child_weight=1,gamma=0.01)\n",
        "## 0.9038156190698864\n",
        "#xgb_bayestuned=XGBClassifier(max_depth=20,max_features=3,min_samples_split=3,n_estimators=400,colsample_bylevel=0.5,colsample_bytree = 0.27608852148395063,learning_rate = 0.05130200263047589)\n",
        "\n",
        "#ROC-AUC Value below for XGB: 0.899 (0.018)\n",
        "#0.8992955935058478\n",
        "#xgb_bayestuned=XGBClassifier(max_depth=20,max_features=3,min_samples_split=3,n_estimators=450,colsample_bylevel=0.4,colsample_bytree = 0.27608852148395063,learning_rate = 0.05130200263047589)\n",
        "\n",
        "# set final xgb_bayestuned = XGBClassifier(max_depth=15,max_features=5,min_samples_split=3,n_estimators=402,colsample_bylevel=0.8142720284737898,colsample_bytree = 0.1801528457825951,learning_rate = 0.1570703295827246)\n",
        "#xgb_bayestuned.fit(X, y)\n",
        "\n",
        "#ROC-AUC Value for XGB: 0.894 (0.015) 0.8938568387958394\n",
        "#xgb_bayestuned=XGBClassifier(max_depth=14,max_features=8,min_samples_split=5,n_estimators=594,colsample_bylevel=1.0,colsample_bytree = 0.38060495936238325,learning_rate = 0.124509351412777,max_delta_step=1,reg_alpha=1,subsample=1.0)\n"
      ],
      "execution_count": 0,
      "outputs": []
    },
    {
      "cell_type": "code",
      "metadata": {
        "id": "XQzetQCRDBPX",
        "colab_type": "code",
        "colab": {}
      },
      "source": [
        "xgb_bayestuned=XGBClassifier(max_depth=20,max_features=8,min_samples_split=3,n_estimators=594,colsample_bylevel=1.0,colsample_bytree = 0.21858736018325325,learning_rate = 0.041947225539799765)"
      ],
      "execution_count": 0,
      "outputs": []
    },
    {
      "cell_type": "code",
      "metadata": {
        "colab_type": "code",
        "id": "A8OR5ksGu68_",
        "colab": {}
      },
      "source": [
        "#https://www.kaggle.com/c/home-credit-default-risk/discussion/59195#350023 "
      ],
      "execution_count": 0,
      "outputs": []
    },
    {
      "cell_type": "code",
      "metadata": {
        "id": "h8q_Pd4DSXfg",
        "colab_type": "code",
        "outputId": "8ae1e0e8-54fa-4ca4-8d92-ad817f154360",
        "colab": {
          "base_uri": "https://localhost:8080/",
          "height": 159
        }
      },
      "source": [
        "xgb_bayestuned.fit(X_final,y_final)"
      ],
      "execution_count": 155,
      "outputs": [
        {
          "output_type": "execute_result",
          "data": {
            "text/plain": [
              "XGBClassifier(base_score=0.5, booster='gbtree', colsample_bylevel=1.0,\n",
              "              colsample_bynode=1, colsample_bytree=0.21858736018325325, gamma=0,\n",
              "              learning_rate=0.041947225539799765, max_delta_step=0,\n",
              "              max_depth=20, max_features=8, min_child_weight=1,\n",
              "              min_samples_split=3, missing=None, n_estimators=594, n_jobs=1,\n",
              "              nthread=None, objective='binary:logistic', random_state=0,\n",
              "              reg_alpha=0, reg_lambda=1, scale_pos_weight=1, seed=None,\n",
              "              silent=None, subsample=1, verbosity=1)"
            ]
          },
          "metadata": {
            "tags": []
          },
          "execution_count": 155
        }
      ]
    },
    {
      "cell_type": "code",
      "metadata": {
        "id": "7YpPLOYdSvIX",
        "colab_type": "code",
        "outputId": "dc6f6046-2f81-44c0-faee-3ae7a9ebf959",
        "colab": {
          "base_uri": "https://localhost:8080/",
          "height": 52
        }
      },
      "source": [
        "cross_validation(xgb_bayestuned,X_final,y_final,'XGB')  "
      ],
      "execution_count": 154,
      "outputs": [
        {
          "output_type": "stream",
          "text": [
            "ROC-AUC Value for XGB: 0.904 (0.015)\n"
          ],
          "name": "stdout"
        },
        {
          "output_type": "execute_result",
          "data": {
            "text/plain": [
              "0.9041665596893562"
            ]
          },
          "metadata": {
            "tags": []
          },
          "execution_count": 154
        }
      ]
    },
    {
      "cell_type": "markdown",
      "metadata": {
        "id": "9nC8guf5Fe0a",
        "colab_type": "text"
      },
      "source": [
        "#### parameters for XGB\n",
        "xgb_bayestuned=XGBClassifier(max_depth=20,max_features=8,min_samples_split=3,n_estimators=594,colsample_bylevel=1.0,colsample_bytree = 0.21858736018325325,learning_rate = 0.041947225539799765)\n",
        "\n",
        "Cross Validation Results:\n",
        "ROC-AUC Value for XGB: 0.904 (0.015)\n",
        "0.9041665596893562"
      ]
    },
    {
      "cell_type": "code",
      "metadata": {
        "id": "EL4EL90FT8v5",
        "colab_type": "code",
        "colab": {}
      },
      "source": [
        "predictionsOutput(xgb_bayestuned,test_final,'XGB_Classifier')"
      ],
      "execution_count": 0,
      "outputs": []
    },
    {
      "cell_type": "code",
      "metadata": {
        "id": "kI_TBchgSdlc",
        "colab_type": "code",
        "colab": {}
      },
      "source": [
        "# preds_xgb_bayes = xgb_bayestuned.predict_proba(test_final)[:,1]"
      ],
      "execution_count": 0,
      "outputs": []
    },
    {
      "cell_type": "code",
      "metadata": {
        "id": "Fn4vS152TRF3",
        "colab_type": "code",
        "colab": {}
      },
      "source": [
        "# result_xgb_bayes = pd.DataFrame({\"Id\": test_df[\"Id\"], 'Y':preds_xgb_bayes})\n",
        "# result_xgb_bayes.to_csv('predictions_XGB_new_5_l.csv', index=False)\n",
        "# files.download('predictions_XGB_new_5_l.csv')"
      ],
      "execution_count": 0,
      "outputs": []
    },
    {
      "cell_type": "code",
      "metadata": {
        "id": "u9TVPeLrUd9_",
        "colab_type": "code",
        "colab": {}
      },
      "source": [
        "stacking = VotingClassifier(estimators=[('xgb',xgb_bayestuned),('lgb',lgb_bayestuned)], voting='soft', weights=[1,1])"
      ],
      "execution_count": 0,
      "outputs": []
    },
    {
      "cell_type": "code",
      "metadata": {
        "id": "NzfIv_FXG2kr",
        "colab_type": "code",
        "colab": {
          "base_uri": "https://localhost:8080/",
          "height": 497
        },
        "outputId": "d85d14be-9ccf-4263-f25a-6784b08ceb7c"
      },
      "source": [
        "stacking.fit(X_final, y_final)"
      ],
      "execution_count": 160,
      "outputs": [
        {
          "output_type": "execute_result",
          "data": {
            "text/plain": [
              "VotingClassifier(estimators=[('xgb',\n",
              "                              XGBClassifier(base_score=0.5, booster='gbtree',\n",
              "                                            colsample_bylevel=1.0,\n",
              "                                            colsample_bynode=1,\n",
              "                                            colsample_bytree=0.21858736018325325,\n",
              "                                            gamma=0,\n",
              "                                            learning_rate=0.041947225539799765,\n",
              "                                            max_delta_step=0, max_depth=20,\n",
              "                                            max_features=8, min_child_weight=1,\n",
              "                                            min_samples_split=3, missing=None,\n",
              "                                            n_estimators=594, n_jobs=1,\n",
              "                                            nthread=None,\n",
              "                                            objective='...\n",
              "                                             importance_type='split',\n",
              "                                             learning_rate=0.1118651457006259,\n",
              "                                             max_depth=20, min_child_samples=20,\n",
              "                                             min_child_weight=3,\n",
              "                                             min_split_gain=0.0,\n",
              "                                             n_estimators=550, n_jobs=-1,\n",
              "                                             num_leaves=31, objective=None,\n",
              "                                             random_state=None, reg_alpha=0.0,\n",
              "                                             reg_lambda=0.0, silent=True,\n",
              "                                             subsample=0.01,\n",
              "                                             subsample_for_bin=200000,\n",
              "                                             subsample_freq=0))],\n",
              "                 flatten_transform=True, n_jobs=None, voting='soft',\n",
              "                 weights=[1, 1])"
            ]
          },
          "metadata": {
            "tags": []
          },
          "execution_count": 160
        }
      ]
    },
    {
      "cell_type": "code",
      "metadata": {
        "id": "6ktAC85oHJgg",
        "colab_type": "code",
        "colab": {}
      },
      "source": [
        "##VotingClassifier"
      ],
      "execution_count": 0,
      "outputs": []
    },
    {
      "cell_type": "markdown",
      "metadata": {
        "id": "Q1sNoGHtHKOe",
        "colab_type": "text"
      },
      "source": [
        "VotingClassifier(estimators=[('xgb',\n",
        "                              XGBClassifier(base_score=0.5, booster='gbtree',\n",
        "                                            colsample_bylevel=1.0,\n",
        "                                            colsample_bynode=1,\n",
        "                                            colsample_bytree=0.21858736018325325,\n",
        "                                            gamma=0,\n",
        "                                            learning_rate=0.041947225539799765,\n",
        "                                            max_delta_step=0, max_depth=20,\n",
        "                                            max_features=8, min_child_weight=1,\n",
        "                                            min_samples_split=3, missing=None,\n",
        "                                            n_estimators=594, n_jobs=1,\n",
        "                                            nthread=None,\n",
        "                                            objective='...\n",
        "                                             importance_type='split',\n",
        "                                             learning_rate=0.1118651457006259,\n",
        "                                             max_depth=20, min_child_samples=20,\n",
        "                                             min_child_weight=3,\n",
        "                                             min_split_gain=0.0,\n",
        "                                             n_estimators=550, n_jobs=-1,\n",
        "                                             num_leaves=31, objective=None,\n",
        "                                             random_state=None, reg_alpha=0.0,\n",
        "                                             reg_lambda=0.0, silent=True,\n",
        "                                             subsample=0.01,\n",
        "                                             subsample_for_bin=200000,\n",
        "                                             subsample_freq=0))],\n",
        "                 flatten_transform=True, n_jobs=None, voting='soft',\n",
        "                 weights=[1, 1])"
      ]
    },
    {
      "cell_type": "code",
      "metadata": {
        "id": "5arBwjAgG4kT",
        "colab_type": "code",
        "colab": {
          "base_uri": "https://localhost:8080/",
          "height": 52
        },
        "outputId": "f5295a85-015c-4b83-db72-5e4c905386fc"
      },
      "source": [
        "cross_validation(stacking,X_final,y_final,'Stacked_XGB_LGB')\n",
        "\n",
        "#using 3:2 and 2:1 weights in voting classifier gives a cross validation AUC test score of 0.8727 but it gives a AUC of 0.85764"
      ],
      "execution_count": 163,
      "outputs": [
        {
          "output_type": "stream",
          "text": [
            "ROC-AUC Value for Stacked_XGB_LGB: 0.899 (0.015)\n"
          ],
          "name": "stdout"
        },
        {
          "output_type": "execute_result",
          "data": {
            "text/plain": [
              "0.8993940713756263"
            ]
          },
          "metadata": {
            "tags": []
          },
          "execution_count": 163
        }
      ]
    },
    {
      "cell_type": "code",
      "metadata": {
        "id": "Iow_c5N7HByc",
        "colab_type": "code",
        "colab": {}
      },
      "source": [
        "predictionsOutput(stacking,test_final,'Stacked_XGB_LGB')"
      ],
      "execution_count": 0,
      "outputs": []
    },
    {
      "cell_type": "code",
      "metadata": {
        "id": "LNCPRK4iIOa9",
        "colab_type": "code",
        "colab": {}
      },
      "source": [
        ""
      ],
      "execution_count": 0,
      "outputs": []
    }
  ]
}